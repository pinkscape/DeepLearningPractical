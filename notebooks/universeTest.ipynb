{
 "cells": [
  {
   "cell_type": "code",
   "execution_count": 1,
   "metadata": {
    "collapsed": true
   },
   "outputs": [
    {
     "name": "stderr",
     "output_type": "stream",
     "text": [
      "[2017-01-05 19:25:22,069] Making new env: flashgames.DuskDrive-v0\n"
     ]
    },
    {
     "name": "stderr",
     "output_type": "stream",
     "text": [
      "[2017-01-05 19:25:22,076] Writing logs to file: /tmp/universe-13321.log\n"
     ]
    },
    {
     "name": "stderr",
     "output_type": "stream",
     "text": [
      "[2017-01-05 19:25:22,093] [0] Creating container: image=quay.io/openai/universe.flashgames:0.20.21. Run the same thing by hand as: docker run -p 5900:5900 -p 15900:15900 --cap-add SYS_ADMIN --ipc host --privileged quay.io/openai/universe.flashgames:0.20.21\n"
     ]
    },
    {
     "name": "stderr",
     "output_type": "stream",
     "text": [
      "[2017-01-05 19:25:23,233] Remote closed: address=localhost:5900\n"
     ]
    },
    {
     "name": "stderr",
     "output_type": "stream",
     "text": [
      "[2017-01-05 19:25:23,249] Remote closed: address=localhost:15900\n"
     ]
    },
    {
     "name": "stderr",
     "output_type": "stream",
     "text": [
      "[2017-01-05 19:25:23,252] At least one sockets was closed by the remote. Sleeping 1s...\n"
     ]
    },
    {
     "name": "stdout",
     "output_type": "stream",
     "text": [
      "\u001b[36muniverse-B1tgkL-0 |\u001b[0m Setting VNC and rewarder password: openai\n"
     ]
    },
    {
     "name": "stdout",
     "output_type": "stream",
     "text": [
      "\u001b[36muniverse-B1tgkL-0 |\u001b[0m [Thu Jan  5 18:25:23 UTC 2017] Waiting for /tmp/.X11-unix/X0 to be created (try 1/10)\n"
     ]
    },
    {
     "name": "stdout",
     "output_type": "stream",
     "text": [
      "\u001b[36muniverse-B1tgkL-0 |\u001b[0m [tigervnc] \n"
     ]
    },
    {
     "name": "stdout",
     "output_type": "stream",
     "text": [
      "\u001b[36muniverse-B1tgkL-0 |\u001b[0m [tigervnc] Xvnc TigerVNC 1.7.0 - built Sep  8 2016 10:39:22\n"
     ]
    },
    {
     "name": "stdout",
     "output_type": "stream",
     "text": [
      "\u001b[36muniverse-B1tgkL-0 |\u001b[0m [tigervnc] Copyright (C) 1999-2016 TigerVNC Team and many others (see README.txt)\n"
     ]
    },
    {
     "name": "stdout",
     "output_type": "stream",
     "text": [
      "\u001b[36muniverse-B1tgkL-0 |\u001b[0m [tigervnc] See http://www.tigervnc.org for information on TigerVNC.\n"
     ]
    },
    {
     "name": "stdout",
     "output_type": "stream",
     "text": [
      "\u001b[36muniverse-B1tgkL-0 |\u001b[0m [tigervnc] Underlying X server release 11400000, The X.Org Foundation\n"
     ]
    },
    {
     "name": "stdout",
     "output_type": "stream",
     "text": [
      "\u001b[36muniverse-B1tgkL-0 |\u001b[0m [tigervnc] \n"
     ]
    },
    {
     "name": "stdout",
     "output_type": "stream",
     "text": [
      "\u001b[36muniverse-B1tgkL-0 |\u001b[0m [tigervnc] Initializing built-in extension VNC-EXTENSION\n"
     ]
    },
    {
     "name": "stdout",
     "output_type": "stream",
     "text": [
      "\u001b[36muniverse-B1tgkL-0 |\u001b[0m [tigervnc] Initializing built-in extension Generic Event Extension\n"
     ]
    },
    {
     "name": "stdout",
     "output_type": "stream",
     "text": [
      "\u001b[36muniverse-B1tgkL-0 |\u001b[0m [tigervnc] Initializing built-in extension SHAPE\n"
     ]
    },
    {
     "name": "stdout",
     "output_type": "stream",
     "text": [
      "\u001b[36muniverse-B1tgkL-0 |\u001b[0m [tigervnc] Initializing built-in extension MIT-SHM\n"
     ]
    },
    {
     "name": "stdout",
     "output_type": "stream",
     "text": [
      "\u001b[36muniverse-B1tgkL-0 |\u001b[0m [tigervnc] Initializing built-in extension XInputExtension\n"
     ]
    },
    {
     "name": "stdout",
     "output_type": "stream",
     "text": [
      "\u001b[36muniverse-B1tgkL-0 |\u001b[0m [tigervnc] Initializing built-in extension XTEST\n"
     ]
    },
    {
     "name": "stdout",
     "output_type": "stream",
     "text": [
      "\u001b[36muniverse-B1tgkL-0 |\u001b[0m [tigervnc] Initializing built-in extension BIG-REQUESTS\n"
     ]
    },
    {
     "name": "stdout",
     "output_type": "stream",
     "text": [
      "\u001b[36muniverse-B1tgkL-0 |\u001b[0m [tigervnc] Initializing built-in extension SYNC\n"
     ]
    },
    {
     "name": "stdout",
     "output_type": "stream",
     "text": [
      "\u001b[36muniverse-B1tgkL-0 |\u001b[0m [tigervnc] Initializing built-in extension XKEYBOARD\n"
     ]
    },
    {
     "name": "stdout",
     "output_type": "stream",
     "text": [
      "\u001b[36muniverse-B1tgkL-0 |\u001b[0m [tigervnc] Initializing built-in extension XC-MISC\n"
     ]
    },
    {
     "name": "stdout",
     "output_type": "stream",
     "text": [
      "\u001b[36muniverse-B1tgkL-0 |\u001b[0m [tigervnc] Initializing built-in extension XINERAMA\n"
     ]
    },
    {
     "name": "stdout",
     "output_type": "stream",
     "text": [
      "\u001b[36muniverse-B1tgkL-0 |\u001b[0m [tigervnc] Initializing built-in extension XFIXES\n"
     ]
    },
    {
     "name": "stdout",
     "output_type": "stream",
     "text": [
      "\u001b[36muniverse-B1tgkL-0 |\u001b[0m [tigervnc] Initializing built-in extension RENDER\n"
     ]
    },
    {
     "name": "stdout",
     "output_type": "stream",
     "text": [
      "\u001b[36muniverse-B1tgkL-0 |\u001b[0m [tigervnc] Initializing built-in extension RANDR\n"
     ]
    },
    {
     "name": "stdout",
     "output_type": "stream",
     "text": [
      "\u001b[36muniverse-B1tgkL-0 |\u001b[0m [tigervnc] Initializing built-in extension COMPOSITE\n"
     ]
    },
    {
     "name": "stdout",
     "output_type": "stream",
     "text": [
      "\u001b[36muniverse-B1tgkL-0 |\u001b[0m [tigervnc] Initializing built-in extension DAMAGE\n"
     ]
    },
    {
     "name": "stdout",
     "output_type": "stream",
     "text": [
      "\u001b[36muniverse-B1tgkL-0 |\u001b[0m [tigervnc] Initializing built-in extension MIT-SCREEN-SAVER\n"
     ]
    },
    {
     "name": "stdout",
     "output_type": "stream",
     "text": [
      "\u001b[36muniverse-B1tgkL-0 |\u001b[0m [tigervnc] Initializing built-in extension DOUBLE-BUFFER\n"
     ]
    },
    {
     "name": "stdout",
     "output_type": "stream",
     "text": [
      "\u001b[36muniverse-B1tgkL-0 |\u001b[0m [tigervnc] Initializing built-in extension RECORD\n"
     ]
    },
    {
     "name": "stdout",
     "output_type": "stream",
     "text": [
      "\u001b[36muniverse-B1tgkL-0 |\u001b[0m [tigervnc] Initializing built-in extension DPMS\n"
     ]
    },
    {
     "name": "stdout",
     "output_type": "stream",
     "text": [
      "\u001b[36muniverse-B1tgkL-0 |\u001b[0m [tigervnc] Initializing built-in extension X-Resource\n"
     ]
    },
    {
     "name": "stdout",
     "output_type": "stream",
     "text": [
      "\u001b[36muniverse-B1tgkL-0 |\u001b[0m [tigervnc] Initializing built-in extension XVideo\n"
     ]
    },
    {
     "name": "stdout",
     "output_type": "stream",
     "text": [
      "\u001b[36muniverse-B1tgkL-0 |\u001b[0m [tigervnc] Initializing built-in extension XVideo-MotionCompensation\n"
     ]
    },
    {
     "name": "stdout",
     "output_type": "stream",
     "text": [
      "\u001b[36muniverse-B1tgkL-0 |\u001b[0m [tigervnc] Initializing built-in extension GLX\n"
     ]
    },
    {
     "name": "stdout",
     "output_type": "stream",
     "text": [
      "\u001b[36muniverse-B1tgkL-0 |\u001b[0m [tigervnc] \n"
     ]
    },
    {
     "name": "stdout",
     "output_type": "stream",
     "text": [
      "\u001b[36muniverse-B1tgkL-0 |\u001b[0m [tigervnc] Thu Jan  5 18:25:23 2017\n"
     ]
    },
    {
     "name": "stdout",
     "output_type": "stream",
     "text": [
      "\u001b[36muniverse-B1tgkL-0 |\u001b[0m [tigervnc]  vncext:      VNC extension running!\n"
     ]
    },
    {
     "name": "stdout",
     "output_type": "stream",
     "text": [
      "\u001b[36muniverse-B1tgkL-0 |\u001b[0m [tigervnc]  vncext:      Listening for VNC connections on all interface(s), port 5900\n"
     ]
    },
    {
     "name": "stdout",
     "output_type": "stream",
     "text": [
      "\u001b[36muniverse-B1tgkL-0 |\u001b[0m [tigervnc]  vncext:      created VNC server for screen 0\n"
     ]
    },
    {
     "name": "stdout",
     "output_type": "stream",
     "text": [
      "\u001b[36muniverse-B1tgkL-0 |\u001b[0m [Thu Jan  5 18:25:23 UTC 2017] [/usr/local/bin/sudoable-env-setup] Disabling outbound network traffic for none\n"
     ]
    },
    {
     "name": "stdout",
     "output_type": "stream",
     "text": [
      "\u001b[36muniverse-B1tgkL-0 |\u001b[0m [tigervnc] [dix] Could not init font path element /usr/share/fonts/X11/Type1/, removing from list!\n"
     ]
    },
    {
     "name": "stdout",
     "output_type": "stream",
     "text": [
      "\u001b[36muniverse-B1tgkL-0 |\u001b[0m [tigervnc] [dix] Could not init font path element /usr/share/fonts/X11/75dpi/, removing from list!\n"
     ]
    },
    {
     "name": "stdout",
     "output_type": "stream",
     "text": [
      "\u001b[36muniverse-B1tgkL-0 |\u001b[0m [tigervnc] [dix] Could not init font path element /usr/share/fonts/X11/100dpi/, removing from list!\n"
     ]
    },
    {
     "name": "stdout",
     "output_type": "stream",
     "text": [
      "\u001b[36muniverse-B1tgkL-0 |\u001b[0m [init] [2017-01-05 18:25:23,351] Launching system_diagnostics_logger.py, recorder_logdir=/tmp/demo\n"
     ]
    },
    {
     "name": "stdout",
     "output_type": "stream",
     "text": [
      "\u001b[36muniverse-B1tgkL-0 |\u001b[0m [init] [2017-01-05 18:25:23,354] Launching reward_recorder.py, recorder_logdir=/tmp/demo\n"
     ]
    },
    {
     "name": "stdout",
     "output_type": "stream",
     "text": [
      "\u001b[36muniverse-B1tgkL-0 |\u001b[0m [init] [2017-01-05 18:25:23,377] Launching vnc_recorder.py, recorder_logdir=/tmp/demo\n"
     ]
    },
    {
     "name": "stdout",
     "output_type": "stream",
     "text": [
      "\u001b[36muniverse-B1tgkL-0 |\u001b[0m [init] [2017-01-05 18:25:23,426] PID 55 launched with command ['sudo', '-H', '-u', 'nobody', 'DISPLAY=:0', 'DBUS_SESSION_BUS_ADDRESS=/dev/null', '/app/universe-envs/controlplane/bin/controlplane.py', '--rewarder-port=15901']\n"
     ]
    },
    {
     "name": "stdout",
     "output_type": "stream",
     "text": [
      "\u001b[36muniverse-B1tgkL-0 |\u001b[0m [init] [2017-01-05 18:25:23,509] init detected end of child process 59 with exit code 0, not killed by signal\n"
     ]
    },
    {
     "name": "stdout",
     "output_type": "stream",
     "text": [
      "\u001b[36muniverse-B1tgkL-0 |\u001b[0m WebSocket server settings:\n"
     ]
    },
    {
     "name": "stdout",
     "output_type": "stream",
     "text": [
      "\u001b[36muniverse-B1tgkL-0 |\u001b[0m   - Listen on :5898\n"
     ]
    },
    {
     "name": "stdout",
     "output_type": "stream",
     "text": [
      "\u001b[36muniverse-B1tgkL-0 |\u001b[0m   - Flash security policy server\n"
     ]
    },
    {
     "name": "stdout",
     "output_type": "stream",
     "text": [
      "\u001b[36muniverse-B1tgkL-0 |\u001b[0m   - No SSL/TLS support (no cert file)\n"
     ]
    },
    {
     "name": "stdout",
     "output_type": "stream",
     "text": [
      "\u001b[36muniverse-B1tgkL-0 |\u001b[0m   - proxying from :5898 to localhost:5900\n"
     ]
    },
    {
     "name": "stderr",
     "output_type": "stream",
     "text": [
      "[2017-01-05 19:25:24,257] Remote closed: address=localhost:15900\n"
     ]
    },
    {
     "name": "stderr",
     "output_type": "stream",
     "text": [
      "[2017-01-05 19:25:24,261] Remote closed: address=localhost:5900\n"
     ]
    },
    {
     "name": "stdout",
     "output_type": "stream",
     "text": [
      "\u001b[36muniverse-B1tgkL-0 |\u001b[0m [nginx] 2017/01/05 18:25:24 [error] 62#62: *1 connect() failed (111: Connection refused) while connecting to upstream, client: 172.17.0.1, server: , request: \"GET / HTTP/1.1\", upstream: \"http://127.0.0.1:15901/\", host: \"127.0.0.1:10003\"\n"
     ]
    },
    {
     "name": "stderr",
     "output_type": "stream",
     "text": [
      "[2017-01-05 19:25:24,265] At least one sockets was closed by the remote. Sleeping 1s...\n"
     ]
    },
    {
     "name": "stdout",
     "output_type": "stream",
     "text": [
      "\u001b[36muniverse-B1tgkL-0 |\u001b[0m [tigervnc] \n"
     ]
    },
    {
     "name": "stdout",
     "output_type": "stream",
     "text": [
      "\u001b[36muniverse-B1tgkL-0 |\u001b[0m [tigervnc] Thu Jan  5 18:25:24 2017\n"
     ]
    },
    {
     "name": "stdout",
     "output_type": "stream",
     "text": [
      "\u001b[36muniverse-B1tgkL-0 |\u001b[0m [tigervnc]  Connections: accepted: 172.17.0.1::33230\n"
     ]
    },
    {
     "name": "stdout",
     "output_type": "stream",
     "text": [
      "\u001b[36muniverse-B1tgkL-0 |\u001b[0m [nginx] 172.17.0.1 - openai [05/Jan/2017:18:25:24 +0000] \"GET / HTTP/1.1\" 502 182 \"-\" \"-\"\n"
     ]
    },
    {
     "name": "stdout",
     "output_type": "stream",
     "text": [
      "\u001b[36muniverse-B1tgkL-0 |\u001b[0m [init] [2017-01-05 18:25:24,283] init detected end of child process 17 with exit code 0, not killed by signal\n"
     ]
    },
    {
     "name": "stdout",
     "output_type": "stream",
     "text": [
      "\u001b[36muniverse-B1tgkL-0 |\u001b[0m [vnc_recorder] [2017-01-05 18:25:24,600] Listening on 0.0.0.0:5899\n"
     ]
    },
    {
     "name": "stdout",
     "output_type": "stream",
     "text": [
      "\u001b[36muniverse-B1tgkL-0 |\u001b[0m [reward_recorder] [2017-01-05 18:25:24,658] Listening on 0.0.0.0:15898\n"
     ]
    },
    {
     "name": "stdout",
     "output_type": "stream",
     "text": [
      "\u001b[36muniverse-B1tgkL-0 |\u001b[0m [2017-01-05 18:25:24,809] [INFO:root] Starting play_controlplane.py with the following: command=['/app/universe-envs/controlplane/bin/controlplane.py', '--rewarder-port=15901'] args=Namespace(bot_demonstration=False, demonstration=False, env_id=None, idle_timeout=None, integrator_mode=False, no_env=False, no_rewarder=False, no_scorer=False, no_vexpect=False, remotes='vnc://127.0.0.1:5900', rewarder_fps=60, rewarder_port=15901, verbosity=0) env=environ({'LOGNAME': 'nobody', 'HOSTNAME': '32ec4fb49bb3', 'TERM': 'xterm', 'SUDO_UID': '0', 'USERNAME': 'nobody', 'HOME': '/nonexistent', 'PATH': '/usr/local/sbin:/usr/local/bin:/usr/sbin:/usr/bin:/sbin:/bin:/snap/bin', 'USER': 'nobody', 'MAIL': '/var/mail/nobody', 'SHELL': '/usr/sbin/nologin', 'DBUS_SESSION_BUS_ADDRESS': '/dev/null', 'SUDO_USER': 'root', 'DISPLAY': ':0', 'SUDO_GID': '0', 'SUDO_COMMAND': '/app/universe-envs/controlplane/bin/controlplane.py --rewarder-port=15901'})\n"
     ]
    },
    {
     "name": "stdout",
     "output_type": "stream",
     "text": [
      "\u001b[36muniverse-B1tgkL-0 |\u001b[0m [2017-01-05 18:25:24,809] [INFO:root] [EnvStatus] Changing env_state: None (env_id=None) -> None (env_id=None) (episode_id: 0->0, fps=60)\n"
     ]
    },
    {
     "name": "stdout",
     "output_type": "stream",
     "text": [
      "\u001b[36muniverse-B1tgkL-0 |\u001b[0m [2017-01-05 18:25:24,809] [INFO:universe.rewarder.remote] Starting Rewarder on port=15901\n"
     ]
    },
    {
     "name": "stdout",
     "output_type": "stream",
     "text": [
      "\u001b[36muniverse-B1tgkL-0 |\u001b[0m [2017-01-05 18:25:24,811] [INFO:universe.extra.universe.wrappers.logger] Running VNC environments with Logger set to print_frequency=5. To change this, pass \"print_frequency=k\" or \"print_frequency=None\" to \"env.configure\".\n"
     ]
    },
    {
     "name": "stdout",
     "output_type": "stream",
     "text": [
      "\u001b[36muniverse-B1tgkL-0 |\u001b[0m [2017-01-05 18:25:24,814] [INFO:universe.envs.vnc_env] Using the golang VNC implementation\n"
     ]
    },
    {
     "name": "stdout",
     "output_type": "stream",
     "text": [
      "\u001b[36muniverse-B1tgkL-0 |\u001b[0m [2017-01-05 18:25:24,814] [INFO:universe.envs.vnc_env] Using VNCSession arguments: {'encoding': 'zrle', 'compress_level': 9, 'fine_quality_level': 50, 'start_timeout': 7, 'subsample_level': 2}. (Customize by running \"env.configure(vnc_kwargs={...})\"\n"
     ]
    },
    {
     "name": "stdout",
     "output_type": "stream",
     "text": [
      "\u001b[36muniverse-B1tgkL-0 |\u001b[0m [2017-01-05 18:25:24,815] [INFO:universe.envs.vnc_env] Printed stats will ignore clock skew. (This usually makes sense only when the environment and agent are on the same machine.)\n"
     ]
    },
    {
     "name": "stdout",
     "output_type": "stream",
     "text": [
      "\u001b[36muniverse-B1tgkL-0 |\u001b[0m [2017-01-05 18:25:24,821] [INFO:universe.envs.vnc_env] [0] Connecting to environment: vnc://127.0.0.1:5900 password=openai. Use the browser-based VNC client: http://None/viewer/?password=openai\n"
     ]
    },
    {
     "name": "stdout",
     "output_type": "stream",
     "text": [
      "\u001b[36muniverse-B1tgkL-0 |\u001b[0m [2017-01-05 18:25:24,822] [INFO:universe.extra.universe.envs.vnc_env] [0] Connecting to environment details: vnc_address=127.0.0.1:5900 vnc_password=openai rewarder_address=None rewarder_password=openai\n"
     ]
    },
    {
     "name": "stdout",
     "output_type": "stream",
     "text": [
      "\u001b[36muniverse-B1tgkL-0 |\u001b[0m 2017/01/05 18:25:24 I0105 18:25:24.822439 58 gymvnc.go:417] [0:127.0.0.1:5900] opening connection to VNC server\n"
     ]
    },
    {
     "name": "stdout",
     "output_type": "stream",
     "text": [
      "\u001b[36muniverse-B1tgkL-0 |\u001b[0m [2017-01-05 18:25:24,822] [INFO:root] [EnvStatus] Changing env_state: None (env_id=None) -> resetting (env_id=None) (episode_id: 0->1, fps=60)\n"
     ]
    },
    {
     "name": "stdout",
     "output_type": "stream",
     "text": [
      "\u001b[36muniverse-B1tgkL-0 |\u001b[0m [2017-01-05 18:25:24,822] [INFO:root] [MainThread] Env state: env_id=None episode_id=1\n"
     ]
    },
    {
     "name": "stdout",
     "output_type": "stream",
     "text": [
      "\u001b[36muniverse-B1tgkL-0 |\u001b[0m [tigervnc]  Connections: accepted: 127.0.0.1::43422\n"
     ]
    },
    {
     "name": "stdout",
     "output_type": "stream",
     "text": [
      "\u001b[36muniverse-B1tgkL-0 |\u001b[0m [tigervnc]  SConnection: Client needs protocol version 3.8\n"
     ]
    },
    {
     "name": "stdout",
     "output_type": "stream",
     "text": [
      "\u001b[36muniverse-B1tgkL-0 |\u001b[0m [tigervnc]  SConnection: Client requests security type VncAuth(2)\n"
     ]
    },
    {
     "name": "stdout",
     "output_type": "stream",
     "text": [
      "\u001b[36muniverse-B1tgkL-0 |\u001b[0m [tigervnc]  VNCSConnST:  Server default pixel format depth 24 (32bpp) little-endian rgb888\n"
     ]
    },
    {
     "name": "stdout",
     "output_type": "stream",
     "text": [
      "\u001b[36muniverse-B1tgkL-0 |\u001b[0m 2017/01/05 18:25:24 I0105 18:25:24.830094 58 gymvnc.go:550] [0:127.0.0.1:5900] connection established\n"
     ]
    },
    {
     "name": "stdout",
     "output_type": "stream",
     "text": [
      "\u001b[36muniverse-B1tgkL-0 |\u001b[0m [tigervnc]  VNCSConnST:  Client pixel format depth 24 (32bpp) little-endian bgr888\n"
     ]
    },
    {
     "name": "stdout",
     "output_type": "stream",
     "text": [
      "\u001b[36muniverse-B1tgkL-0 |\u001b[0m [Thu Jan  5 18:25:24 UTC 2017] [/usr/local/bin/sudoable-env-setup] Disabling outbound network traffic for none\n"
     ]
    },
    {
     "name": "stdout",
     "output_type": "stream",
     "text": [
      "\u001b[36muniverse-B1tgkL-0 |\u001b[0m [2017-01-05 18:25:24,873] [INFO:gym_flashgames.launcher] [MainThread] Launching new Chrome process (attempt 0/10)\n"
     ]
    },
    {
     "name": "stdout",
     "output_type": "stream",
     "text": [
      "\u001b[36muniverse-B1tgkL-0 |\u001b[0m [2017-01-05 18:25:24,873] [INFO:root] Replacing selenium_wrapper_server since we currently do it at every episode boundary\n"
     ]
    },
    {
     "name": "stdout",
     "output_type": "stream",
     "text": [
      "\u001b[36muniverse-B1tgkL-0 |\u001b[0m [2017-01-05 18:25:25,049] [selenium_wrapper_server] Calling webdriver.Chrome()\n"
     ]
    },
    {
     "name": "stderr",
     "output_type": "stream",
     "text": [
      "[2017-01-05 19:25:25,271] Using the golang VNC implementation\n"
     ]
    },
    {
     "name": "stderr",
     "output_type": "stream",
     "text": [
      "[2017-01-05 19:25:25,277] Using VNCSession arguments: {'subsample_level': 2, 'start_timeout': 7, 'fine_quality_level': 50, 'encoding': 'tight'}. (Customize by running \"env.configure(vnc_kwargs={...})\"\n"
     ]
    },
    {
     "name": "stdout",
     "output_type": "stream",
     "text": [
      "\u001b[36muniverse-B1tgkL-0 |\u001b[0m [tigervnc] \n"
     ]
    },
    {
     "name": "stdout",
     "output_type": "stream",
     "text": [
      "\u001b[36muniverse-B1tgkL-0 |\u001b[0m [tigervnc] Thu Jan  5 18:25:25 2017\n"
     ]
    },
    {
     "name": "stdout",
     "output_type": "stream",
     "text": [
      "\u001b[36muniverse-B1tgkL-0 |\u001b[0m [tigervnc]  Connections: closed: 172.17.0.1::33230 (Clean disconnection)\n"
     ]
    },
    {
     "name": "stdout",
     "output_type": "stream",
     "text": [
      "\u001b[36muniverse-B1tgkL-0 |\u001b[0m [tigervnc]  EncodeManager: Framebuffer updates: 0\n"
     ]
    },
    {
     "name": "stdout",
     "output_type": "stream",
     "text": [
      "\u001b[36muniverse-B1tgkL-0 |\u001b[0m [tigervnc]  EncodeManager:   Total: 0 rects, 0 pixels\n"
     ]
    },
    {
     "name": "stdout",
     "output_type": "stream",
     "text": [
      "\u001b[36muniverse-B1tgkL-0 |\u001b[0m [tigervnc]  EncodeManager:          0 B (1:-nan ratio)\n"
     ]
    },
    {
     "name": "stderr",
     "output_type": "stream",
     "text": [
      "[2017-01-05 19:25:25,298] [0] Connecting to environment: vnc://localhost:5900 password=openai. Use the browser-based VNC client: http://localhost:15900/viewer/?password=openai\n"
     ]
    },
    {
     "name": "stdout",
     "output_type": "stream",
     "text": [
      "\u001b[36muniverse-B1tgkL-0 |\u001b[0m [nginx] 2017/01/05 18:25:25 [info] 62#62: *1 client 172.17.0.1 closed keepalive connection\n"
     ]
    },
    {
     "name": "stdout",
     "output_type": "stream",
     "text": [
      "\u001b[36muniverse-B1tgkL-0 |\u001b[0m [tigervnc]  Connections: accepted: 172.17.0.1::33242\n"
     ]
    },
    {
     "name": "stdout",
     "output_type": "stream",
     "text": [
      "\u001b[36muniverse-B1tgkL-0 |\u001b[0m [tigervnc]  SConnection: Client needs protocol version 3.8\n"
     ]
    },
    {
     "name": "stdout",
     "output_type": "stream",
     "text": [
      "\u001b[36muniverse-B1tgkL-0 |\u001b[0m [tigervnc]  SConnection: Client requests security type VncAuth(2)\n"
     ]
    },
    {
     "name": "stdout",
     "output_type": "stream",
     "text": [
      "\u001b[36muniverse-B1tgkL-0 |\u001b[0m [tigervnc]  VNCSConnST:  Server default pixel format depth 24 (32bpp) little-endian rgb888\n"
     ]
    },
    {
     "name": "stdout",
     "output_type": "stream",
     "text": [
      "\u001b[36muniverse-B1tgkL-0 |\u001b[0m [tigervnc]  VNCSConnST:  Client pixel format depth 24 (32bpp) little-endian bgr888\n"
     ]
    },
    {
     "name": "stdout",
     "output_type": "stream",
     "text": [
      "\u001b[36muniverse-B1tgkL-0 |\u001b[0m [2017-01-05 18:25:25,334] [INFO:universe.rewarder.remote] Client connecting: peer=tcp4:127.0.0.1:53566 observer=False\n"
     ]
    },
    {
     "name": "stdout",
     "output_type": "stream",
     "text": [
      "\u001b[36muniverse-B1tgkL-0 |\u001b[0m [2017-01-05 18:25:25,334] [INFO:universe.rewarder.remote] WebSocket connection established\n"
     ]
    },
    {
     "name": "stdout",
     "output_type": "stream",
     "text": [
      "\u001b[36muniverse-B1tgkL-0 |\u001b[0m [nginx] 2017/01/05 18:25:26 [info] 62#62: *5 client sent invalid request while reading client request line, client: 127.0.0.1, server: , request: \"CONNECT www.google.com:443 HTTP/1.1\"\n"
     ]
    },
    {
     "name": "stdout",
     "output_type": "stream",
     "text": [
      "\u001b[36muniverse-B1tgkL-0 |\u001b[0m [nginx] 2017/01/05 18:25:26 [info] 62#62: *6 client sent invalid request while reading client request line, client: 127.0.0.1, server: , request: \"CONNECT www.google.com:443 HTTP/1.1\"\n"
     ]
    },
    {
     "name": "stdout",
     "output_type": "stream",
     "text": [
      "\u001b[36muniverse-B1tgkL-0 |\u001b[0m [2017-01-05 18:25:26,510] [selenium_wrapper_server] Call to webdriver.Chrome() completed: 1.46s\n"
     ]
    },
    {
     "name": "stdout",
     "output_type": "stream",
     "text": [
      "\u001b[36muniverse-B1tgkL-0 |\u001b[0m [2017-01-05 18:25:26,511] [INFO:gym_flashgames.launcher] [MainThread] Navigating browser to url=http://localhost\n"
     ]
    },
    {
     "name": "stdout",
     "output_type": "stream",
     "text": [
      "\u001b[36muniverse-B1tgkL-0 |\u001b[0m [nginx] 2017/01/05 18:25:27 [info] 62#62: *7 client sent invalid request while reading client request line, client: 127.0.0.1, server: , request: \"CONNECT www.google.com:443 HTTP/1.1\"\n"
     ]
    },
    {
     "name": "stdout",
     "output_type": "stream",
     "text": [
      "\u001b[36muniverse-B1tgkL-0 |\u001b[0m [2017-01-05 18:25:27,472] [INFO:root] [EnvStatus] Changing env_state: resetting (env_id=None) -> running (env_id=None) (episode_id: 1->1, fps=60)\n"
     ]
    },
    {
     "name": "stdout",
     "output_type": "stream",
     "text": [
      "\u001b[36muniverse-B1tgkL-0 |\u001b[0m Manhole[1483640727.4797]: Patched <built-in function fork> and <built-in function fork>.\n"
     ]
    },
    {
     "name": "stdout",
     "output_type": "stream",
     "text": [
      "\u001b[36muniverse-B1tgkL-0 |\u001b[0m Manhole[1483640727.4799]: Manhole UDS path: /tmp/manhole-58\n"
     ]
    },
    {
     "name": "stdout",
     "output_type": "stream",
     "text": [
      "\u001b[36muniverse-B1tgkL-0 |\u001b[0m Manhole[1483640727.4799]: Waiting for new connection (in pid:58) ...\n"
     ]
    },
    {
     "name": "stdout",
     "output_type": "stream",
     "text": [
      "\u001b[36muniverse-B1tgkL-0 |\u001b[0m [2017-01-05 18:25:29,825] [INFO:universe.wrappers.logger] Stats for the past 5.00s: vnc_updates_ps=3.0 n=1 reaction_time=None observation_lag=None action_lag=None reward_ps=0.0 reward_total=0.0 vnc_bytes_ps[total]=516433.7 vnc_pixels_ps[total]=499836.9 reward_lag=None rewarder_message_lag=None fps=28.39\n"
     ]
    },
    {
     "name": "stdout",
     "output_type": "stream",
     "text": [
      "\u001b[36muniverse-B1tgkL-0 |\u001b[0m [2017-01-05 18:25:32,476] [INFO:universe.pyprofile] [pyprofile] period=5.00s timers={\"vnc_env.VNCEnv.vnc_session.step\": {\"mean\": \"192.08us\", \"calls\": 301, \"std\": \"84.12us\"}, \"rewarder.frame\": {\"mean\": \"16.79ms\", \"calls\": 300, \"std\": \"64.12us\"}, \"rewarder.compute_reward\": {\"mean\": \"483.69us\", \"calls\": 301, \"std\": \"211.29us\"}, \"rewarder.sleep\": {\"mean\": \"15.93ms\", \"calls\": 300, \"std\": \"231.26us\"}} counters={\"reward.vnc.updates.n\": {\"mean\": 0.0498338870431894, \"calls\": 301, \"std\": 0.8088108384007393}} gauges={} (export_time=277.52us)\n"
     ]
    },
    {
     "name": "stdout",
     "output_type": "stream",
     "text": [
      "\u001b[36muniverse-B1tgkL-0 |\u001b[0m [2017-01-05 18:25:32,477] [INFO:universe.rewarder.remote] [Rewarder] Over past 5.00s, sent 1 reward messages to agent: reward=0 reward_min=0 reward_max=0 done=False info={'rewarder.vnc.updates.n': 0, 'rewarder.vnc.updates.pixels': 0, 'rewarder.profile': '<715 bytes>', 'rewarder.vnc.updates.bytes': 0}\n"
     ]
    },
    {
     "name": "stdout",
     "output_type": "stream",
     "text": [
      "\u001b[36muniverse-B1tgkL-0 |\u001b[0m [2017-01-05 18:25:34,842] [INFO:universe.wrappers.logger] Stats for the past 5.02s: vnc_updates_ps=0.0 n=1 reaction_time=None observation_lag=None action_lag=None reward_ps=0.0 reward_total=0.0 vnc_bytes_ps[total]=0.0 vnc_pixels_ps[total]=0.0 reward_lag=None rewarder_message_lag=None fps=60.02\n"
     ]
    },
    {
     "name": "stdout",
     "output_type": "stream",
     "text": [
      "\u001b[36muniverse-B1tgkL-0 |\u001b[0m [2017-01-05 18:25:37,491] [INFO:universe.pyprofile] [pyprofile] period=5.02s timers={\"vnc_env.VNCEnv.vnc_session.step\": {\"mean\": \"180.65us\", \"calls\": 301, \"std\": \"79.58us\"}, \"rewarder.frame\": {\"mean\": \"16.82ms\", \"calls\": 301, \"std\": \"643.87us\"}, \"rewarder.compute_reward\": {\"mean\": \"455.54us\", \"calls\": 301, \"std\": \"201.13us\"}, \"rewarder.sleep\": {\"mean\": \"15.91ms\", \"calls\": 301, \"std\": \"700.89us\"}} counters={\"agent_conn.reward\": {\"mean\": 0.0, \"calls\": 1, \"std\": 0}, \"reward.vnc.updates.n\": {\"mean\": 0.0, \"calls\": 301, \"std\": 0.0}} gauges={} (export_time=150.20us)\n"
     ]
    },
    {
     "name": "stdout",
     "output_type": "stream",
     "text": [
      "\u001b[36muniverse-B1tgkL-0 |\u001b[0m [2017-01-05 18:25:37,491] [INFO:universe.rewarder.remote] [Rewarder] Over past 5.01s, sent 1 reward messages to agent: reward=0 reward_min=0 reward_max=0 done=False info={'rewarder.vnc.updates.n': 0, 'rewarder.vnc.updates.pixels': 0, 'rewarder.profile': '<757 bytes>', 'rewarder.vnc.updates.bytes': 0}\n"
     ]
    },
    {
     "name": "stdout",
     "output_type": "stream",
     "text": [
      "\u001b[36muniverse-B1tgkL-0 |\u001b[0m [2017-01-05 18:25:39,858] [INFO:universe.wrappers.logger] Stats for the past 5.01s: vnc_updates_ps=0.0 n=1 reaction_time=None observation_lag=None action_lag=None reward_ps=0.0 reward_total=0.0 vnc_bytes_ps[total]=0.0 vnc_pixels_ps[total]=0.0 reward_lag=None rewarder_message_lag=None fps=60.02\n"
     ]
    },
    {
     "name": "stdout",
     "output_type": "stream",
     "text": [
      "\u001b[36muniverse-B1tgkL-0 |\u001b[0m [nginx] 2017/01/05 18:25:42 [info] 62#62: *10 client closed connection while waiting for request, client: 172.17.0.1, server: 0.0.0.0:15900\n"
     ]
    },
    {
     "name": "stdout",
     "output_type": "stream",
     "text": [
      "\u001b[36muniverse-B1tgkL-0 |\u001b[0m [nginx] 2017/01/05 18:25:42 [info] 62#62: *11 client closed connection while waiting for request, client: 172.17.0.1, server: 0.0.0.0:15900\n"
     ]
    },
    {
     "name": "stdout",
     "output_type": "stream",
     "text": [
      "\u001b[36muniverse-B1tgkL-0 |\u001b[0m [nginx] 2017/01/05 18:25:42 [info] 62#62: *12 client closed connection while waiting for request, client: 172.17.0.1, server: 0.0.0.0:15900\n"
     ]
    },
    {
     "name": "stdout",
     "output_type": "stream",
     "text": [
      "\u001b[36muniverse-B1tgkL-0 |\u001b[0m [nginx] 2017/01/05 18:25:42 [info] 62#62: *13 client closed connection while waiting for request, client: 172.17.0.1, server: 0.0.0.0:15900\n"
     ]
    },
    {
     "name": "stdout",
     "output_type": "stream",
     "text": [
      "\u001b[36muniverse-B1tgkL-0 |\u001b[0m [nginx] 2017/01/05 18:25:42 [info] 62#62: *14 client closed connection while waiting for request, client: 172.17.0.1, server: 0.0.0.0:15900\n"
     ]
    },
    {
     "name": "stdout",
     "output_type": "stream",
     "text": [
      "\u001b[36muniverse-B1tgkL-0 |\u001b[0m [nginx] 2017/01/05 18:25:42 [info] 62#62: *15 client closed connection while waiting for request, client: 172.17.0.1, server: 0.0.0.0:15900\n"
     ]
    },
    {
     "name": "stdout",
     "output_type": "stream",
     "text": [
      "\u001b[36muniverse-B1tgkL-0 |\u001b[0m [nginx] 2017/01/05 18:25:42 [info] 62#62: *16 client closed connection while waiting for request, client: 172.17.0.1, server: 0.0.0.0:15900\n"
     ]
    },
    {
     "name": "stdout",
     "output_type": "stream",
     "text": [
      "\u001b[36muniverse-B1tgkL-0 |\u001b[0m [nginx] 2017/01/05 18:25:42 [info] 62#62: *17 client closed connection while waiting for request, client: 172.17.0.1, server: 0.0.0.0:15900\n"
     ]
    },
    {
     "name": "stdout",
     "output_type": "stream",
     "text": [
      "\u001b[36muniverse-B1tgkL-0 |\u001b[0m [nginx] 2017/01/05 18:25:42 [info] 62#62: *18 client closed connection while waiting for request, client: 172.17.0.1, server: 0.0.0.0:15900\n"
     ]
    },
    {
     "name": "stdout",
     "output_type": "stream",
     "text": [
      "\u001b[36muniverse-B1tgkL-0 |\u001b[0m [2017-01-05 18:25:42,095] [INFO:universe.rewarder.remote] CONNECTION STATUS: Marking connection as active: observer=False peer=tcp4:127.0.0.1:53566 total_conns=1\n"
     ]
    },
    {
     "name": "stdout",
     "output_type": "stream",
     "text": [
      "\u001b[36muniverse-B1tgkL-0 |\u001b[0m [nginx] 2017/01/05 18:25:42 [info] 62#62: *19 client closed connection while waiting for request, client: 172.17.0.1, server: 0.0.0.0:15900\n"
     ]
    },
    {
     "name": "stderr",
     "output_type": "stream",
     "text": [
      "[2017-01-05 19:25:42,161] [0:localhost:5900] Sending reset for env_id=flashgames.DuskDrive-v0 fps=60 episode_id=0\n"
     ]
    },
    {
     "name": "stdout",
     "output_type": "stream",
     "text": [
      "\u001b[36muniverse-B1tgkL-0 |\u001b[0m [2017-01-05 18:25:42,172] [INFO:universe.rewarder.remote] Received reset message: {'headers': {'sent_at': 1483640742.170907, 'episode_id': '0', 'message_id': 10}, 'body': {'env_id': 'flashgames.DuskDrive-v0', 'seed': None, 'fps': 60}, 'method': 'v0.env.reset'}\n"
     ]
    },
    {
     "name": "stdout",
     "output_type": "stream",
     "text": [
      "\u001b[36muniverse-B1tgkL-0 |\u001b[0m [2017-01-05 18:25:42,183] [INFO:root] [EnvStatus] Changing env_state: running (env_id=None) -> resetting (env_id=flashgames.DuskDrive-v0) (episode_id: 1->2, fps=60)\n"
     ]
    },
    {
     "name": "stdout",
     "output_type": "stream",
     "text": [
      "\u001b[36muniverse-B1tgkL-0 |\u001b[0m [2017-01-05 18:25:42,184] [ERROR:root] Closing server (via subprocess.close()) and all chromes (via pkill chromedriver || :; pkill chrome || :)\n"
     ]
    },
    {
     "name": "stdout",
     "output_type": "stream",
     "text": [
      "\u001b[36muniverse-B1tgkL-0 |\u001b[0m [2017-01-05 18:25:42,191] [INFO:root] [Rewarder] Blocking until env finishes resetting\n"
     ]
    },
    {
     "name": "stdout",
     "output_type": "stream",
     "text": [
      "\u001b[36muniverse-B1tgkL-0 |\u001b[0m [init] [2017-01-05 18:25:42,199] init detected end of child process 114 with exit code 0, killed by SIGTERM: 15\n"
     ]
    },
    {
     "name": "stdout",
     "output_type": "stream",
     "text": [
      "\u001b[36muniverse-B1tgkL-0 |\u001b[0m [init] [2017-01-05 18:25:42,206] init detected end of child process 129 with exit code 0, not killed by signal\n"
     ]
    },
    {
     "name": "stdout",
     "output_type": "stream",
     "text": [
      "\u001b[36muniverse-B1tgkL-0 |\u001b[0m [2017-01-05 18:25:42,208] [INFO:root] [EnvController] RESET CAUSE: changing out environments due to v0.env.reset (with episode_id=0): flashgames.DuskDrive-v0 -> flashgames.DuskDrive-v0 (new episode_id=2 fps=60)\n"
     ]
    },
    {
     "name": "stdout",
     "output_type": "stream",
     "text": [
      "\u001b[36muniverse-B1tgkL-0 |\u001b[0m [2017-01-05 18:25:42,208] [INFO:root] [EnvController] Env state: env_id=flashgames.DuskDrive-v0 episode_id=2\n"
     ]
    },
    {
     "name": "stdout",
     "output_type": "stream",
     "text": [
      "\u001b[36muniverse-B1tgkL-0 |\u001b[0m [init] [2017-01-05 18:25:42,216] init detected end of child process 335 with exit code 0, killed by SIGTERM: 15\n"
     ]
    },
    {
     "name": "stdout",
     "output_type": "stream",
     "text": [
      "\u001b[36muniverse-B1tgkL-0 |\u001b[0m [init] [2017-01-05 18:25:42,218] init detected end of child process 351 with exit code 0, killed by SIGTERM: 15\n"
     ]
    },
    {
     "name": "stdout",
     "output_type": "stream",
     "text": [
      "\u001b[36muniverse-B1tgkL-0 |\u001b[0m [Thu Jan  5 18:25:42 UTC 2017] [/usr/local/bin/sudoable-env-setup] Allowing outbound network traffic to non-private IPs for git-lfs. (Going to fetch files via git lfs.)\n"
     ]
    },
    {
     "name": "stdout",
     "output_type": "stream",
     "text": [
      "\u001b[36muniverse-B1tgkL-0 |\u001b[0m [unpack-lfs] [2017-01-05 18:25:42,376] Unpacking files for flashgames.DuskDrive-v0\n"
     ]
    },
    {
     "name": "stdout",
     "output_type": "stream",
     "text": [
      "\u001b[36muniverse-B1tgkL-0 |\u001b[0m [nginx] 2017/01/05 18:25:42 [info] 62#62: *9 client closed connection while waiting for request, client: 127.0.0.1, server: 0.0.0.0:80\n"
     ]
    },
    {
     "name": "stdout",
     "output_type": "stream",
     "text": [
      "\u001b[36muniverse-B1tgkL-0 |\u001b[0m [nginx] 2017/01/05 18:25:42 [info] 62#62: *8 client 127.0.0.1 closed keepalive connection\n"
     ]
    },
    {
     "name": "stdout",
     "output_type": "stream",
     "text": [
      "\u001b[36muniverse-B1tgkL-0 |\u001b[0m [init] [2017-01-05 18:25:42,442] init detected end of child process 117 with exit code 0, not killed by signal\n"
     ]
    },
    {
     "name": "stdout",
     "output_type": "stream",
     "text": [
      "\u001b[36muniverse-B1tgkL-0 |\u001b[0m [init] [2017-01-05 18:25:42,443] init detected end of child process 125 with exit code 0, not killed by signal\n"
     ]
    },
    {
     "name": "stdout",
     "output_type": "stream",
     "text": [
      "\u001b[36muniverse-B1tgkL-0 |\u001b[0m [init] [2017-01-05 18:25:42,444] init detected end of child process 126 with exit code 0, not killed by signal\n"
     ]
    },
    {
     "name": "stdout",
     "output_type": "stream",
     "text": [
      "\u001b[36muniverse-B1tgkL-0 |\u001b[0m [init] [2017-01-05 18:25:42,444] init detected end of child process 128 with exit code 0, killed by SIGTERM: 15\n"
     ]
    },
    {
     "name": "stdout",
     "output_type": "stream",
     "text": [
      "\u001b[36muniverse-B1tgkL-0 |\u001b[0m [unpack-lfs] [2017-01-05 18:25:42,474] Merged 5 files from /tmp/flashgames.DuskDrive-v0/public -> /app/universe-envs/flashgames/build/public/flashgames.DuskDrive-v0\n"
     ]
    },
    {
     "name": "stdout",
     "output_type": "stream",
     "text": [
      "\u001b[36muniverse-B1tgkL-0 |\u001b[0m [unpack-lfs] [2017-01-05 18:25:42,477] Merged 20 files from /tmp/flashgames.DuskDrive-v0/private -> /app/universe-envs/flashgames/build/private/flashgames.DuskDrive-v0\n"
     ]
    },
    {
     "name": "stdout",
     "output_type": "stream",
     "text": [
      "\u001b[36muniverse-B1tgkL-0 |\u001b[0m [unpack-lfs] [2017-01-05 18:25:42,478] Completed unpack for flashgames.DuskDrive-v0 in 0.103s\n"
     ]
    },
    {
     "name": "stdout",
     "output_type": "stream",
     "text": [
      "\u001b[36muniverse-B1tgkL-0 |\u001b[0m [Thu Jan  5 18:25:42 UTC 2017] [/usr/local/bin/sudoable-env-setup] [debug] unpack-lfs completed with status code: 0. Created completion file: /usr/local/openai/git-lfs/flashgames.DuskDrive-v0\n"
     ]
    },
    {
     "name": "stdout",
     "output_type": "stream",
     "text": [
      "\u001b[36muniverse-B1tgkL-0 |\u001b[0m [Thu Jan  5 18:25:42 UTC 2017] [/usr/local/bin/sudoable-env-setup] Disabling outbound network traffic for flashgames.DuskDrive-v0\n"
     ]
    },
    {
     "name": "stdout",
     "output_type": "stream",
     "text": [
      "\u001b[36muniverse-B1tgkL-0 |\u001b[0m [2017-01-05 18:25:42,646] [INFO:gym_flashgames.launcher] [EnvController] Launching new Chrome process (attempt 0/10)\n"
     ]
    },
    {
     "name": "stdout",
     "output_type": "stream",
     "text": [
      "\u001b[36muniverse-B1tgkL-0 |\u001b[0m [2017-01-05 18:25:42,647] [INFO:root] Replacing selenium_wrapper_server since we currently do it at every episode boundary\n"
     ]
    },
    {
     "name": "stdout",
     "output_type": "stream",
     "text": [
      "\u001b[36muniverse-B1tgkL-0 |\u001b[0m [2017-01-05 18:25:42,884] [selenium_wrapper_server] Calling webdriver.Chrome()\n"
     ]
    },
    {
     "name": "stdout",
     "output_type": "stream",
     "text": [
      "\u001b[36muniverse-B1tgkL-0 |\u001b[0m [nginx] 2017/01/05 18:25:44 [info] 62#62: *20 client sent invalid request while reading client request line, client: 127.0.0.1, server: , request: \"CONNECT www.google.com:443 HTTP/1.1\"\n"
     ]
    },
    {
     "name": "stdout",
     "output_type": "stream",
     "text": [
      "\u001b[36muniverse-B1tgkL-0 |\u001b[0m [nginx] 2017/01/05 18:25:44 [info] 62#62: *21 client sent invalid request while reading client request line, client: 127.0.0.1, server: , request: \"CONNECT www.google.com:443 HTTP/1.1\"\n"
     ]
    },
    {
     "name": "stdout",
     "output_type": "stream",
     "text": [
      "\u001b[36muniverse-B1tgkL-0 |\u001b[0m [nginx] 2017/01/05 18:25:44 [info] 62#62: *22 client sent invalid request while reading client request line, client: 127.0.0.1, server: , request: \"CONNECT www.google.com:443 HTTP/1.1\"\n"
     ]
    },
    {
     "name": "stdout",
     "output_type": "stream",
     "text": [
      "\u001b[36muniverse-B1tgkL-0 |\u001b[0m [2017-01-05 18:25:44,323] [selenium_wrapper_server] Call to webdriver.Chrome() completed: 1.44s\n"
     ]
    },
    {
     "name": "stdout",
     "output_type": "stream",
     "text": [
      "\u001b[36muniverse-B1tgkL-0 |\u001b[0m [2017-01-05 18:25:44,325] [INFO:gym_flashgames.launcher] [EnvController] Navigating browser to url=http://localhost/flashgames.DuskDrive-v0\n"
     ]
    },
    {
     "name": "stdout",
     "output_type": "stream",
     "text": [
      "\u001b[36muniverse-B1tgkL-0 |\u001b[0m [2017-01-05 18:25:44,416] [INFO:root] [EnvController] Running command: /app/universe-envs/controlplane/bin/play_vexpect -e flashgames.DuskDrive-v0 -r vnc://127.0.0.1:5900 -d\n"
     ]
    },
    {
     "name": "stdout",
     "output_type": "stream",
     "text": [
      "\u001b[36muniverse-B1tgkL-0 |\u001b[0m [nginx] 2017/01/05 18:25:45 [info] 65#65: *26 client sent invalid request while reading client request line, client: 127.0.0.1, server: , request: \"CONNECT www.google-analytics.com:443 HTTP/1.1\"\n"
     ]
    },
    {
     "name": "stdout",
     "output_type": "stream",
     "text": [
      "\u001b[36muniverse-B1tgkL-0 |\u001b[0m [2017-01-05 18:25:45,374] [play_vexpect] Using the golang VNC implementation\n"
     ]
    },
    {
     "name": "stdout",
     "output_type": "stream",
     "text": [
      "\u001b[36muniverse-B1tgkL-0 |\u001b[0m [2017-01-05 18:25:45,374] [play_vexpect] Using VNCSession arguments: {'compress_level': 0, 'fine_quality_level': 50, 'subsample_level': 2, 'start_timeout': 7, 'encoding': 'zrle'}. (Customize by running \"env.configure(vnc_kwargs={...})\"\n"
     ]
    },
    {
     "name": "stdout",
     "output_type": "stream",
     "text": [
      "\u001b[36muniverse-B1tgkL-0 |\u001b[0m [2017-01-05 18:25:45,374] [play_vexpect] Printed stats will ignore clock skew. (This usually makes sense only when the environment and agent are on the same machine.)\n"
     ]
    },
    {
     "name": "stdout",
     "output_type": "stream",
     "text": [
      "\u001b[36muniverse-B1tgkL-0 |\u001b[0m [2017-01-05 18:25:45,377] [play_vexpect] [0] Connecting to environment: vnc://127.0.0.1:5900 password=openai. Use the browser-based VNC client: http://None/viewer/?password=openai\n"
     ]
    },
    {
     "name": "stdout",
     "output_type": "stream",
     "text": [
      "\u001b[36muniverse-B1tgkL-0 |\u001b[0m [2017-01-05 18:25:45,377] [play_vexpect] [0] Connecting to environment details: vnc_address=127.0.0.1:5900 vnc_password=openai rewarder_address=None rewarder_password=openai\n"
     ]
    },
    {
     "name": "stdout",
     "output_type": "stream",
     "text": [
      "\u001b[36muniverse-B1tgkL-0 |\u001b[0m 2017/01/05 18:25:45 I0105 18:25:45.378196 660 gymvnc.go:417] [0:127.0.0.1:5900] opening connection to VNC server\n"
     ]
    },
    {
     "name": "stdout",
     "output_type": "stream",
     "text": [
      "\u001b[36muniverse-B1tgkL-0 |\u001b[0m [tigervnc] \n"
     ]
    },
    {
     "name": "stdout",
     "output_type": "stream",
     "text": [
      "\u001b[36muniverse-B1tgkL-0 |\u001b[0m [tigervnc] Thu Jan  5 18:25:45 2017\n"
     ]
    },
    {
     "name": "stdout",
     "output_type": "stream",
     "text": [
      "\u001b[36muniverse-B1tgkL-0 |\u001b[0m [tigervnc]  Connections: accepted: 127.0.0.1::44100\n"
     ]
    },
    {
     "name": "stdout",
     "output_type": "stream",
     "text": [
      "\u001b[36muniverse-B1tgkL-0 |\u001b[0m [tigervnc]  SConnection: Client needs protocol version 3.8\n"
     ]
    },
    {
     "name": "stdout",
     "output_type": "stream",
     "text": [
      "\u001b[36muniverse-B1tgkL-0 |\u001b[0m [tigervnc]  SConnection: Client requests security type VncAuth(2)\n"
     ]
    },
    {
     "name": "stdout",
     "output_type": "stream",
     "text": [
      "\u001b[36muniverse-B1tgkL-0 |\u001b[0m [tigervnc]  VNCSConnST:  Server default pixel format depth 24 (32bpp) little-endian rgb888\n"
     ]
    },
    {
     "name": "stdout",
     "output_type": "stream",
     "text": [
      "\u001b[36muniverse-B1tgkL-0 |\u001b[0m 2017/01/05 18:25:45 I0105 18:25:45.381199 660 gymvnc.go:550] [0:127.0.0.1:5900] connection established\n"
     ]
    },
    {
     "name": "stdout",
     "output_type": "stream",
     "text": [
      "\u001b[36muniverse-B1tgkL-0 |\u001b[0m [tigervnc]  VNCSConnST:  Client pixel format depth 24 (32bpp) little-endian bgr888\n"
     ]
    },
    {
     "name": "stdout",
     "output_type": "stream",
     "text": [
      "\u001b[36muniverse-B1tgkL-0 |\u001b[0m [2017-01-05 18:25:45,995] [play_vexpect] Waiting for any of [MaskState<initializing0>] to activate\n"
     ]
    },
    {
     "name": "stdout",
     "output_type": "stream",
     "text": [
      "\u001b[36muniverse-B1tgkL-0 |\u001b[0m 2017/01/05 18:25:51 I0105 18:25:51.058767 58 gymvnc.go:374] [0:127.0.0.1:5900] update queue max of 60 reached; pausing further updates\n"
     ]
    },
    {
     "name": "stdout",
     "output_type": "stream",
     "text": [
      "\u001b[36muniverse-B1tgkL-0 |\u001b[0m [2017-01-05 18:25:53,063] [play_vexpect] Applying transition: ClickTransition<initializing0->['initializing1'] x=429 y=539 buttonmask=1> for active state MaskState<initializing0>. (Summary: plausible_states=MaskState<initializing0> distance_m=0.0489 match_time_m=572us)\n"
     ]
    },
    {
     "name": "stdout",
     "output_type": "stream",
     "text": [
      "\u001b[36muniverse-B1tgkL-0 |\u001b[0m [2017-01-05 18:25:53,081] [play_vexpect] Waiting for any of [MaskState<initializing1>] to activate (or whether any of [MaskState<initializing0>] are still active)\n"
     ]
    },
    {
     "name": "stdout",
     "output_type": "stream",
     "text": [
      "\u001b[36muniverse-B1tgkL-0 |\u001b[0m [2017-01-05 18:25:57,129] [play_vexpect] Advancing to the next hopeful state (2/2): MaskState<initializing0>\n"
     ]
    },
    {
     "name": "stdout",
     "output_type": "stream",
     "text": [
      "\u001b[36muniverse-B1tgkL-0 |\u001b[0m [2017-01-05 18:25:58,946] [play_vexpect] Applying transition: ClickTransition<initializing1->['initializing2'] x=571 y=512 buttonmask=1> for active state MaskState<initializing1>. (Summary: plausible_states=[MaskState<initializing1>, MaskState<initializing0>] distance_m=[0.0365, 0.7533666666666666] match_time_m=['450us', '335us'])\n"
     ]
    },
    {
     "name": "stdout",
     "output_type": "stream",
     "text": [
      "\u001b[36muniverse-B1tgkL-0 |\u001b[0m [2017-01-05 18:25:58,962] [play_vexpect] Waiting for any of [MaskState<initializing2>] to activate (or whether any of [MaskState<initializing1>] are still active)\n"
     ]
    },
    {
     "name": "stdout",
     "output_type": "stream",
     "text": [
      "\u001b[36muniverse-B1tgkL-0 |\u001b[0m [2017-01-05 18:25:59,446] [play_vexpect] Applying transition: ClickTransition<initializing2->['ready0', 'ready1', 'ready2', 'ready3'] x=216 y=296 buttonmask=1> for active state MaskState<initializing2>. (Summary: plausible_states=[MaskState<initializing2>, MaskState<initializing1>] distance_m=[0.0359, 0.9961] match_time_m=['349us', '239us'])\n"
     ]
    },
    {
     "name": "stdout",
     "output_type": "stream",
     "text": [
      "\u001b[36muniverse-B1tgkL-0 |\u001b[0m [2017-01-05 18:25:59,462] [play_vexpect] Waiting for any of [ready0, ready1, ready2, ready3] to activate (or whether any of [MaskState<initializing2>] are still active)\n"
     ]
    },
    {
     "name": "stdout",
     "output_type": "stream",
     "text": [
      "\u001b[36muniverse-B1tgkL-0 |\u001b[0m [2017-01-05 18:26:00,030] [play_vexpect] Applying transition: ClickTransition<ready1->[] x=0 y=0 buttonmask=0> for active state ready1. (Summary: plausible_states=[ready0, ready1, ready2, ready3, MaskState<initializing2>] distance_m=[0.31468353, 0.11631844, 0.28442386, 0.039567132, 0.9969] match_time_m=['480us', '167us', '123us', '117us', '311us'])\n"
     ]
    },
    {
     "name": "stdout",
     "output_type": "stream",
     "text": [
      "\u001b[36muniverse-B1tgkL-0 |\u001b[0m [2017-01-05 18:26:00,032] [play_vexpect] Reaching start state: ready1\n"
     ]
    },
    {
     "name": "stdout",
     "output_type": "stream",
     "text": [
      "\u001b[36muniverse-B1tgkL-0 |\u001b[0m [2017-01-05 18:26:00,032] [play_vexpect] vexpect macro complete in 14.620445s\n"
     ]
    },
    {
     "name": "stdout",
     "output_type": "stream",
     "text": [
      "\u001b[36muniverse-B1tgkL-0 |\u001b[0m [tigervnc] \n"
     ]
    },
    {
     "name": "stdout",
     "output_type": "stream",
     "text": [
      "\u001b[36muniverse-B1tgkL-0 |\u001b[0m [tigervnc] Thu Jan  5 18:26:00 2017\n"
     ]
    },
    {
     "name": "stdout",
     "output_type": "stream",
     "text": [
      "\u001b[36muniverse-B1tgkL-0 |\u001b[0m [tigervnc]  Connections: closed: 127.0.0.1::44100 (Clean disconnection)\n"
     ]
    },
    {
     "name": "stdout",
     "output_type": "stream",
     "text": [
      "\u001b[36muniverse-B1tgkL-0 |\u001b[0m [tigervnc]  EncodeManager: Framebuffer updates: 219\n"
     ]
    },
    {
     "name": "stdout",
     "output_type": "stream",
     "text": [
      "\u001b[36muniverse-B1tgkL-0 |\u001b[0m [tigervnc]  EncodeManager:   ZRLE:\n"
     ]
    },
    {
     "name": "stdout",
     "output_type": "stream",
     "text": [
      "\u001b[36muniverse-B1tgkL-0 |\u001b[0m [tigervnc]  EncodeManager:     Solid: 37 rects, 1.60883 Mpixels\n"
     ]
    },
    {
     "name": "stdout",
     "output_type": "stream",
     "text": [
      "\u001b[36muniverse-B1tgkL-0 |\u001b[0m [tigervnc]  EncodeManager:            3.52148 KiB (1:1784.74 ratio)\n"
     ]
    },
    {
     "name": "stdout",
     "output_type": "stream",
     "text": [
      "\u001b[36muniverse-B1tgkL-0 |\u001b[0m [tigervnc]  EncodeManager:     Bitmap RLE: 70 rects, 772.149 kpixels\n"
     ]
    },
    {
     "name": "stdout",
     "output_type": "stream",
     "text": [
      "\u001b[36muniverse-B1tgkL-0 |\u001b[0m [tigervnc]  EncodeManager:                 102.479 KiB (1:29.4406 ratio)\n"
     ]
    },
    {
     "name": "stdout",
     "output_type": "stream",
     "text": [
      "\u001b[36muniverse-B1tgkL-0 |\u001b[0m [tigervnc]  EncodeManager:     Indexed RLE: 150 rects, 1.79018 Mpixels\n"
     ]
    },
    {
     "name": "stdout",
     "output_type": "stream",
     "text": [
      "\u001b[36muniverse-B1tgkL-0 |\u001b[0m [tigervnc]  EncodeManager:                  517.459 KiB (1:13.5173 ratio)\n"
     ]
    },
    {
     "name": "stdout",
     "output_type": "stream",
     "text": [
      "\u001b[36muniverse-B1tgkL-0 |\u001b[0m [tigervnc]  EncodeManager:     Full Colour: 203 rects, 8.03911 Mpixels\n"
     ]
    },
    {
     "name": "stdout",
     "output_type": "stream",
     "text": [
      "\u001b[36muniverse-B1tgkL-0 |\u001b[0m [tigervnc]  EncodeManager:                  23.0106 MiB (1:1.33282 ratio)\n"
     ]
    },
    {
     "name": "stdout",
     "output_type": "stream",
     "text": [
      "\u001b[36muniverse-B1tgkL-0 |\u001b[0m [tigervnc]  EncodeManager:   Total: 460 rects, 12.2103 Mpixels\n"
     ]
    },
    {
     "name": "stdout",
     "output_type": "stream",
     "text": [
      "\u001b[36muniverse-B1tgkL-0 |\u001b[0m [tigervnc]  EncodeManager:          23.6195 MiB (1:1.97226 ratio)\n"
     ]
    },
    {
     "name": "stdout",
     "output_type": "stream",
     "text": [
      "\u001b[36muniverse-B1tgkL-0 |\u001b[0m [2017-01-05 18:26:00,341] [INFO:root] [EnvStatus] Changing env_state: resetting (env_id=flashgames.DuskDrive-v0) -> running (env_id=flashgames.DuskDrive-v0) (episode_id: 2->2, fps=60)\n"
     ]
    },
    {
     "name": "stdout",
     "output_type": "stream",
     "text": [
      "\u001b[36muniverse-B1tgkL-0 |\u001b[0m [2017-01-05 18:26:00,346] [INFO:root] [Rewarder] Unblocking since env reset finished\n"
     ]
    },
    {
     "name": "stdout",
     "output_type": "stream",
     "text": [
      "\u001b[36muniverse-B1tgkL-0 |\u001b[0m [2017-01-05 18:26:00,346] [INFO:root] [Rewarder] Changing reward_parsers: None -> flashgames.DuskDrive-v0\n"
     ]
    },
    {
     "name": "stdout",
     "output_type": "stream",
     "text": [
      "\u001b[36muniverse-B1tgkL-0 |\u001b[0m [2017-01-05 18:26:00,353] [INFO:universe.rewarder.remote] Sending rewarder message: {'method': 'v0.reply.env.reset', 'body': {}, 'headers': {'sent_at': 1483640760.353176, 'parent_runtime': 18.181193590164185, 'episode_id': '2', 'message_id': 16, 'parent_message_id': 10}}\n"
     ]
    },
    {
     "name": "stderr",
     "output_type": "stream",
     "text": [
      "[2017-01-05 19:26:00,356] [0:localhost:5900] Initial reset complete: episode_id=2\n"
     ]
    },
    {
     "name": "stdout",
     "output_type": "stream",
     "text": [
      "\u001b[36muniverse-B1tgkL-0 |\u001b[0m [2017-01-05 18:26:02,758] [INFO:gym_controlplane.registration] Loaded scorer: <gym_controlplane.reward.score.OCRScorerV0 object at 0x7f787dcf9fd0>\n"
     ]
    },
    {
     "name": "stdout",
     "output_type": "stream",
     "text": [
      "\u001b[36muniverse-B1tgkL-0 |\u001b[0m [2017-01-05 18:26:03,543] [INFO:gym_controlplane.registration] Created reward parser for flashgames.DuskDrive-v0: Reward<scorer=<gym_controlplane.reward.score.OCRScorerV0 object at 0x7f787dcf9fd0> vexpect=VExpect<{'initializing0': <gym_controlplane.integration.transition.ClickTransition object at 0x7f7848eafda0>, 'ready0': <gym_controlplane.integration.transition.ClickTransition object at 0x7f7848eb5b70>, 'ready1': <gym_controlplane.integration.transition.ClickTransition object at 0x7f7848eb7160>, 'ready3': <gym_controlplane.integration.transition.ClickTransition object at 0x7f7848eb7cc0>, 'initializing1': <gym_controlplane.integration.transition.ClickTransition object at 0x7f7848eb1748>, 'initializing2': <gym_controlplane.integration.transition.ClickTransition object at 0x7f7848eb50f0>, 'ready2': <gym_controlplane.integration.transition.ClickTransition object at 0x7f7848eb7710>}>>\n"
     ]
    },
    {
     "name": "stdout",
     "output_type": "stream",
     "text": [
      "\u001b[36muniverse-B1tgkL-0 |\u001b[0m [2017-01-05 18:26:03,544] [INFO:root] Using metadata_encoding={'x': 914, 'y': 658, 'width': 100, 'type': 'qrcode', 'height': 100} probe_key=96 subscription=[(548, 100, 442, 100), (82, 92, 128, 20), (914, 100, 658, 100)]\n"
     ]
    },
    {
     "name": "stdout",
     "output_type": "stream",
     "text": [
      "\u001b[36muniverse-B1tgkL-0 |\u001b[0m [2017-01-05 18:26:03,545] [INFO:universe.rewarder.remote] [Rewarder] Over past 26.05s, sent 0 reward messages to agent: reward=0 reward_min=(empty) reward_max=(empty) done=False info={}\n"
     ]
    },
    {
     "name": "stdout",
     "output_type": "stream",
     "text": [
      "\u001b[36muniverse-B1tgkL-0 |\u001b[0m [2017-01-05 18:26:03,546] [INFO:universe.rewarder.remote] [Rewarder] Ending previous episode: episode_reward=0 episode_count=2 episode_duration=36.07\n"
     ]
    },
    {
     "name": "stdout",
     "output_type": "stream",
     "text": [
      "\u001b[36muniverse-B1tgkL-0 |\u001b[0m [2017-01-05 18:26:03,547] [INFO:universe.wrappers.logger] Stats for the past 23.69s: vnc_updates_ps=0.0 n=1 reaction_time=None observation_lag=None action_lag=None reward_ps=0.0 reward_total=0.0 vnc_bytes_ps[total]=0.0 vnc_pixels_ps[total]=0.0 reward_lag=None rewarder_message_lag=None fps=5.91\n"
     ]
    },
    {
     "name": "stdout",
     "output_type": "stream",
     "text": [
      "\u001b[36muniverse-B1tgkL-0 |\u001b[0m 2017/01/05 18:26:03 I0105 18:26:03.551731 58 gymvnc.go:278] [0:127.0.0.1:5900] resuming updates\n"
     ]
    },
    {
     "name": "stdout",
     "output_type": "stream",
     "text": [
      "\u001b[36muniverse-B1tgkL-0 |\u001b[0m [2017-01-05 18:26:03,577] [INFO:universe.pyprofile] [pyprofile] period=26.09s timers={\"score.crop_cache.readthrough.OCRScorerV0\": {\"mean\": \"27.70ms\", \"calls\": 1, \"std\": \"0.00us\"}, \"rewarder_protocol.latency.rtt.skew_unadjusted\": {\"mean\": \"6.09ms\", \"calls\": 11, \"std\": \"8.75ms\"}, \"rewarder.frame\": {\"mean\": \"16.80ms\", \"calls\": 282, \"std\": \"301.51us\"}, \"score.crop_cache.get.OCRScorerV0\": {\"mean\": \"31.47us\", \"calls\": 1, \"std\": \"0.00us\"}, \"rewarder.compute_reward\": {\"mean\": \"580.13us\", \"calls\": 282, \"std\": \"1.82ms\"}, \"reward.parsing.score\": {\"mean\": \"28.00ms\", \"calls\": 1, \"std\": \"0.00us\"}, \"score.crop_cache.get.MatchImage\": {\"mean\": \"5.72us\", \"calls\": 1, \"std\": \"0.00us\"}, \"reward.parsing.gameover\": {\"mean\": \"257.73us\", \"calls\": 1, \"std\": \"0.00us\"}, \"vnc_env.VNCEnv.vnc_session.step\": {\"mean\": \"188.62us\", \"calls\": 282, \"std\": \"74.46us\"}, \"score.crop_cache.readthrough.MatchImage\": {\"mean\": \"132.56us\", \"calls\": 1, \"std\": \"0.00us\"}, \"rewarder.sleep\": {\"mean\": \"15.91ms\", \"calls\": 282, \"std\": \"355.49us\"}} counters={\"agent_conn.reward\": {\"mean\": 0.0, \"calls\": 1, \"std\": 0}, \"control.env_id_change\": {\"mean\": 1.0, \"calls\": 1, \"std\": 0}, \"control.env_id_change.flashgames.DuskDrive-v0\": {\"mean\": 1.0, \"calls\": 1, \"std\": 0}, \"reward.vnc.updates.n\": {\"mean\": 0.21631205673758866, \"calls\": 282, \"std\": 3.6324971384700233}, \"rewarder_protocol.messages\": {\"mean\": 1.0, \"calls\": 11, \"std\": 0.0}, \"rewarder_protocol.messages.v0.control.ping\": {\"mean\": 1.0, \"calls\": 10, \"std\": 0.0}, \"rewarder_protocol.messages.v0.env.reset\": {\"mean\": 1.0, \"calls\": 1, \"std\": 0}} gauges={} (export_time=258.68us)\n"
     ]
    },
    {
     "name": "stdout",
     "output_type": "stream",
     "text": [
      "\u001b[36muniverse-B1tgkL-0 |\u001b[0m [2017-01-05 18:26:03,578] [INFO:root] [Rewarder] Rewarder fell behind by 3.2151856422424316s from target; losing 192 frames\n"
     ]
    },
    {
     "name": "stdout",
     "output_type": "stream",
     "text": [
      "\u001b[36muniverse-B1tgkL-0 |\u001b[0m [2017-01-05 18:26:03,634] [INFO:gym_controlplane.reward.reward] First score parsed: score=10861\n"
     ]
    },
    {
     "name": "stdout",
     "output_type": "stream",
     "text": [
      "\u001b[36muniverse-B1tgkL-0 |\u001b[0m [2017-01-05 18:26:04,563] [INFO:universe.rewarder.remote] [Rewarder] Over past 1.02s, sent 14 reward messages to agent: reward=8120.0 reward_min=-439.0 reward_max=1406 done=False info={'rewarder.vnc.updates.n': 1, 'rewarder.vnc.updates.pixels': 21640, 'rewarder.profile': '<2031 bytes>', 'rewarder.vnc.updates.bytes': 36882}\n"
     ]
    },
    {
     "name": "stdout",
     "output_type": "stream",
     "text": [
      "\u001b[36muniverse-B1tgkL-0 |\u001b[0m [2017-01-05 18:26:05,566] [INFO:universe.rewarder.remote] [Rewarder] Over past 1.00s, sent 19 reward messages to agent: reward=11927.0 reward_min=208.0 reward_max=1155.0 done=False info={'rewarder.vnc.updates.n': 1, 'rewarder.vnc.updates.pixels': 11840, 'rewarder.vnc.updates.bytes': 35562}\n"
     ]
    },
    {
     "name": "stdout",
     "output_type": "stream",
     "text": [
      "\u001b[36muniverse-B1tgkL-0 |\u001b[0m [2017-01-05 18:26:06,587] [INFO:universe.rewarder.remote] [Rewarder] Over past 1.02s, sent 23 reward messages to agent: reward=13859.0 reward_min=211.0 reward_max=909.0 done=False info={'rewarder.vnc.updates.n': 1, 'rewarder.vnc.updates.pixels': 11840, 'rewarder.vnc.updates.bytes': 35562}\n"
     ]
    },
    {
     "name": "stdout",
     "output_type": "stream",
     "text": [
      "\u001b[36muniverse-B1tgkL-0 |\u001b[0m [2017-01-05 18:26:07,691] [INFO:universe.rewarder.remote] [Rewarder] Over past 1.10s, sent 17 reward messages to agent: reward=13677.0 reward_min=231.0 reward_max=1423.0 done=False info={'rewarder.vnc.updates.n': 1, 'rewarder.vnc.updates.pixels': 21640, 'rewarder.vnc.updates.bytes': 36882}\n"
     ]
    },
    {
     "name": "stdout",
     "output_type": "stream",
     "text": [
      "\u001b[36muniverse-B1tgkL-0 |\u001b[0m [2017-01-05 18:26:08,550] [INFO:universe.wrappers.logger] Stats for the past 5.00s: vnc_updates_ps=31.0 n=1 reaction_time=None observation_lag=None action_lag=None reward_ps=0.0 reward_total=0.0 vnc_bytes_ps[total]=1168286.1 vnc_pixels_ps[total]=990147.1 reward_lag=None rewarder_message_lag=None fps=53.00\n"
     ]
    },
    {
     "name": "stdout",
     "output_type": "stream",
     "text": [
      "\u001b[36muniverse-B1tgkL-0 |\u001b[0m [2017-01-05 18:26:08,583] [INFO:universe.pyprofile] [pyprofile] period=5.01s timers={\"rewarder.sleep.missed\": {\"mean\": \"47.90ms\", \"calls\": 79, \"std\": \"360.95ms\"}, \"score.crop_cache.readthrough.OCRScorerV0\": {\"mean\": \"20.86ms\", \"calls\": 90, \"std\": \"5.35ms\"}, \"rewarder.frame\": {\"mean\": \"31.00ms\", \"calls\": 267, \"std\": \"196.68ms\"}, \"score.crop_cache.get.OCRScorerV0\": {\"mean\": \"139.07us\", \"calls\": 93, \"std\": \"133.87us\"}, \"rewarder.compute_reward\": {\"mean\": \"7.83ms\", \"calls\": 267, \"std\": \"10.83ms\"}, \"reward.parsing.score\": {\"mean\": \"20.74ms\", \"calls\": 93, \"std\": \"6.46ms\"}, \"score.crop_cache.get.MatchImage\": {\"mean\": \"106.16us\", \"calls\": 93, \"std\": \"158.37us\"}, \"reward.parsing.gameover\": {\"mean\": \"409.33us\", \"calls\": 93, \"std\": \"286.91us\"}, \"vnc_env.VNCEnv.vnc_session.step\": {\"mean\": \"212.46us\", \"calls\": 267, \"std\": \"539.66us\"}, \"score.crop_cache.readthrough.MatchImage\": {\"mean\": \"142.26us\", \"calls\": 93, \"std\": \"68.08us\"}, \"rewarder.sleep\": {\"mean\": \"15.07ms\", \"calls\": 188, \"std\": \"3.73ms\"}} counters={\"agent_conn.reward\": {\"mean\": 595.6, \"calls\": 90, \"std\": 374.05914331376687}, \"reward.vnc.updates.n\": {\"mean\": 0.3558052434456928, \"calls\": 267, \"std\": 0.49508297274014057}, \"score.crop_cache.hit.OCRScorerV0\": {\"mean\": 1.0, \"calls\": 3, \"std\": 0.0}} gauges={\"reward_parser.score.last_score\": {\"value\": 64322.0, \"mean\": 39119.61956521739, \"calls\": 92, \"std\": 16617.13853181549}} (export_time=404.60us)\n"
     ]
    },
    {
     "name": "stdout",
     "output_type": "stream",
     "text": [
      "\u001b[36muniverse-B1tgkL-0 |\u001b[0m [2017-01-05 18:26:08,730] [INFO:universe.rewarder.remote] [Rewarder] Over past 1.04s, sent 21 reward messages to agent: reward=6347.0 reward_min=0 reward_max=1453.0 done=False info={'rewarder.vnc.updates.n': 1, 'rewarder.vnc.updates.pixels': 21640, 'rewarder.profile': '<1935 bytes>', 'rewarder.vnc.updates.bytes': 36882}\n"
     ]
    },
    {
     "name": "stdout",
     "output_type": "stream",
     "text": [
      "\u001b[36muniverse-B1tgkL-0 |\u001b[0m [2017-01-05 18:26:09,764] [INFO:universe.rewarder.remote] [Rewarder] Over past 1.03s, sent 14 reward messages to agent: reward=1335.0 reward_min=37.0 reward_max=198.0 done=False info={'rewarder.vnc.updates.n': 1, 'rewarder.vnc.updates.pixels': 11840, 'rewarder.vnc.updates.bytes': 35562}\n"
     ]
    },
    {
     "name": "stdout",
     "output_type": "stream",
     "text": [
      "\u001b[36muniverse-B1tgkL-0 |\u001b[0m [2017-01-05 18:26:10,765] [INFO:universe.rewarder.remote] [Rewarder] Over past 1.00s, sent 13 reward messages to agent: reward=2675.0 reward_min=30.0 reward_max=589.0 done=False info={'rewarder.vnc.updates.n': 1, 'rewarder.vnc.updates.pixels': 11840, 'rewarder.vnc.updates.bytes': 35562}\n"
     ]
    },
    {
     "name": "stdout",
     "output_type": "stream",
     "text": [
      "\u001b[36muniverse-B1tgkL-0 |\u001b[0m [2017-01-05 18:26:11,907] [INFO:universe.rewarder.remote] [Rewarder] Over past 1.14s, sent 16 reward messages to agent: reward=2757.0 reward_min=3.0 reward_max=411.0 done=False info={'rewarder.vnc.updates.n': 1, 'rewarder.vnc.updates.pixels': 21640, 'rewarder.vnc.updates.bytes': 36882}\n"
     ]
    },
    {
     "name": "stdout",
     "output_type": "stream",
     "text": [
      "\u001b[36muniverse-B1tgkL-0 |\u001b[0m [2017-01-05 18:26:12,984] [INFO:universe.rewarder.remote] [Rewarder] Over past 1.08s, sent 13 reward messages to agent: reward=26.0 reward_min=1.0 reward_max=5.0 done=False info={'rewarder.vnc.updates.n': 1, 'rewarder.vnc.updates.pixels': 21640, 'rewarder.vnc.updates.bytes': 36882}\n"
     ]
    },
    {
     "name": "stdout",
     "output_type": "stream",
     "text": [
      "\u001b[36muniverse-B1tgkL-0 |\u001b[0m [2017-01-05 18:26:13,559] [INFO:universe.wrappers.logger] Stats for the past 5.01s: vnc_updates_ps=14.6 n=1 reaction_time=None observation_lag=None action_lag=None reward_ps=0.0 reward_total=0.0 vnc_bytes_ps[total]=513031.1 vnc_pixels_ps[total]=221377.9 reward_lag=None rewarder_message_lag=None fps=56.12\n"
     ]
    },
    {
     "name": "stdout",
     "output_type": "stream",
     "text": [
      "\u001b[36muniverse-B1tgkL-0 |\u001b[0m [2017-01-05 18:26:13,592] [INFO:universe.pyprofile] [pyprofile] period=5.01s timers={\"rewarder.sleep.missed\": {\"mean\": \"5.51ms\", \"calls\": 59, \"std\": \"6.11ms\"}, \"score.crop_cache.readthrough.OCRScorerV0\": {\"mean\": \"19.11ms\", \"calls\": 69, \"std\": \"5.76ms\"}, \"rewarder.frame\": {\"mean\": \"17.98ms\", \"calls\": 280, \"std\": \"3.55ms\"}, \"score.crop_cache.get.OCRScorerV0\": {\"mean\": \"157.63us\", \"calls\": 73, \"std\": \"191.18us\"}, \"rewarder.compute_reward\": {\"mean\": \"5.45ms\", \"calls\": 280, \"std\": \"9.26ms\"}, \"reward.parsing.score\": {\"mean\": \"18.69ms\", \"calls\": 73, \"std\": \"7.13ms\"}, \"score.crop_cache.get.MatchImage\": {\"mean\": \"90.95us\", \"calls\": 73, \"std\": \"52.51us\"}, \"reward.parsing.gameover\": {\"mean\": \"453.58us\", \"calls\": 73, \"std\": \"595.86us\"}, \"vnc_env.VNCEnv.vnc_session.step\": {\"mean\": \"196.52us\", \"calls\": 280, \"std\": \"451.11us\"}, \"score.crop_cache.readthrough.MatchImage\": {\"mean\": \"141.27us\", \"calls\": 72, \"std\": \"65.49us\"}, \"rewarder.sleep\": {\"mean\": \"15.36ms\", \"calls\": 221, \"std\": \"2.99ms\"}} counters={\"agent_conn.reward\": {\"mean\": 107.34328358208953, \"calls\": 67, \"std\": 127.5474424198408}, \"reward.vnc.updates.n\": {\"mean\": 0.2607142857142857, \"calls\": 280, \"std\": 0.43981039064976885}, \"score.crop_cache.hit.MatchImage\": {\"mean\": 1.0, \"calls\": 1, \"std\": 0}, \"score.crop_cache.hit.OCRScorerV0\": {\"mean\": 1.0, \"calls\": 4, \"std\": 0.0}} gauges={\"reward_parser.score.last_score\": {\"value\": 71657.0, \"mean\": 69116.46575342467, \"calls\": 73, \"std\": 2713.9257291595395}} (export_time=353.34us)\n"
     ]
    },
    {
     "name": "stdout",
     "output_type": "stream",
     "text": [
      "\u001b[36muniverse-B1tgkL-0 |\u001b[0m [2017-01-05 18:26:14,041] [INFO:universe.rewarder.remote] [Rewarder] Over past 1.06s, sent 13 reward messages to agent: reward=337.0 reward_min=2.0 reward_max=91.0 done=False info={'rewarder.vnc.updates.n': 1, 'rewarder.vnc.updates.pixels': 11840, 'rewarder.profile': '<2021 bytes>', 'rewarder.vnc.updates.bytes': 35562}\n"
     ]
    },
    {
     "name": "stdout",
     "output_type": "stream",
     "text": [
      "\u001b[36muniverse-B1tgkL-0 |\u001b[0m [2017-01-05 18:26:15,081] [INFO:universe.rewarder.remote] [Rewarder] Over past 1.04s, sent 13 reward messages to agent: reward=712.0 reward_min=2.0 reward_max=124.0 done=False info={'rewarder.vnc.updates.n': 1, 'rewarder.vnc.updates.pixels': 11840, 'rewarder.vnc.updates.bytes': 35562}\n"
     ]
    },
    {
     "name": "stdout",
     "output_type": "stream",
     "text": [
      "\u001b[36muniverse-B1tgkL-0 |\u001b[0m [2017-01-05 18:26:16,090] [INFO:universe.rewarder.remote] [Rewarder] Over past 1.01s, sent 11 reward messages to agent: reward=21.0 reward_min=1.0 reward_max=6.0 done=False info={'rewarder.vnc.updates.n': 1, 'rewarder.vnc.updates.pixels': 21640, 'rewarder.vnc.updates.bytes': 36882}\n"
     ]
    },
    {
     "name": "stdout",
     "output_type": "stream",
     "text": [
      "\u001b[36muniverse-B1tgkL-0 |\u001b[0m [2017-01-05 18:26:17,246] [INFO:universe.rewarder.remote] [Rewarder] Over past 1.16s, sent 18 reward messages to agent: reward=524.0 reward_min=3.0 reward_max=91.0 done=False info={'rewarder.vnc.updates.n': 1, 'rewarder.vnc.updates.pixels': 11840, 'rewarder.vnc.updates.bytes': 35562}\n"
     ]
    },
    {
     "name": "stdout",
     "output_type": "stream",
     "text": [
      "\u001b[36muniverse-B1tgkL-0 |\u001b[0m [2017-01-05 18:26:18,258] [INFO:universe.rewarder.remote] [Rewarder] Over past 1.01s, sent 13 reward messages to agent: reward=3021.0 reward_min=43.0 reward_max=457.0 done=False info={'rewarder.vnc.updates.n': 1, 'rewarder.vnc.updates.pixels': 11840, 'rewarder.vnc.updates.bytes': 35562}\n"
     ]
    },
    {
     "name": "stdout",
     "output_type": "stream",
     "text": [
      "\u001b[36muniverse-B1tgkL-0 |\u001b[0m [2017-01-05 18:26:18,572] [INFO:universe.wrappers.logger] Stats for the past 5.01s: vnc_updates_ps=14.6 n=1 reaction_time=None observation_lag=None action_lag=None reward_ps=0.0 reward_total=0.0 vnc_bytes_ps[total]=508604.8 vnc_pixels_ps[total]=227328.2 reward_lag=None rewarder_message_lag=None fps=56.86\n"
     ]
    },
    {
     "name": "stdout",
     "output_type": "stream",
     "text": [
      "\u001b[36muniverse-B1tgkL-0 |\u001b[0m [2017-01-05 18:26:18,610] [INFO:universe.pyprofile] [pyprofile] period=5.02s timers={\"rewarder.sleep.missed\": {\"mean\": \"5.16ms\", \"calls\": 51, \"std\": \"4.64ms\"}, \"score.crop_cache.readthrough.OCRScorerV0\": {\"mean\": \"18.36ms\", \"calls\": 71, \"std\": \"4.72ms\"}, \"rewarder.frame\": {\"mean\": \"17.74ms\", \"calls\": 285, \"std\": \"2.76ms\"}, \"score.crop_cache.get.OCRScorerV0\": {\"mean\": \"97.61us\", \"calls\": 73, \"std\": \"27.66us\"}, \"rewarder.compute_reward\": {\"mean\": \"5.19ms\", \"calls\": 285, \"std\": \"8.66ms\"}, \"reward.parsing.score\": {\"mean\": \"18.35ms\", \"calls\": 73, \"std\": \"5.56ms\"}, \"score.crop_cache.get.MatchImage\": {\"mean\": \"116.51us\", \"calls\": 73, \"std\": \"245.25us\"}, \"reward.parsing.gameover\": {\"mean\": \"375.31us\", \"calls\": 73, \"std\": \"317.92us\"}, \"vnc_env.VNCEnv.vnc_session.step\": {\"mean\": \"150.86us\", \"calls\": 285, \"std\": \"171.00us\"}, \"score.crop_cache.readthrough.MatchImage\": {\"mean\": \"131.23us\", \"calls\": 71, \"std\": \"54.38us\"}, \"rewarder.sleep\": {\"mean\": \"14.77ms\", \"calls\": 234, \"std\": \"4.17ms\"}} counters={\"agent_conn.reward\": {\"mean\": 89.2878787878788, \"calls\": 66, \"std\": 118.07165557751719}, \"reward.vnc.updates.n\": {\"mean\": 0.25614035087719306, \"calls\": 285, \"std\": 0.4372680648228967}, \"score.crop_cache.hit.MatchImage\": {\"mean\": 1.0, \"calls\": 2, \"std\": 0.0}, \"score.crop_cache.hit.OCRScorerV0\": {\"mean\": 1.0, \"calls\": 2, \"std\": 0.0}} gauges={\"reward_parser.score.last_score\": {\"value\": 77550.0, \"mean\": 73289.72602739726, \"calls\": 73, \"std\": 1465.5533583321708}} (export_time=182.15us)\n"
     ]
    },
    {
     "name": "stdout",
     "output_type": "stream",
     "text": [
      "\u001b[36muniverse-B1tgkL-0 |\u001b[0m [2017-01-05 18:26:19,277] [INFO:universe.rewarder.remote] [Rewarder] Over past 1.02s, sent 16 reward messages to agent: reward=6511.0 reward_min=171.0 reward_max=698.0 done=False info={'rewarder.vnc.updates.n': 1, 'rewarder.vnc.updates.pixels': 11840, 'rewarder.profile': '<2025 bytes>', 'rewarder.vnc.updates.bytes': 35562}\n"
     ]
    },
    {
     "name": "stdout",
     "output_type": "stream",
     "text": [
      "\u001b[36muniverse-B1tgkL-0 |\u001b[0m [2017-01-05 18:26:20,335] [INFO:universe.rewarder.remote] [Rewarder] Over past 1.06s, sent 13 reward messages to agent: reward=8930.0 reward_min=137.0 reward_max=1671.0 done=False info={'rewarder.vnc.updates.n': 1, 'rewarder.vnc.updates.pixels': 21640, 'rewarder.vnc.updates.bytes': 36882}\n"
     ]
    },
    {
     "name": "stdout",
     "output_type": "stream",
     "text": [
      "\u001b[36muniverse-B1tgkL-0 |\u001b[0m [2017-01-05 18:26:21,379] [INFO:universe.rewarder.remote] [Rewarder] Over past 1.04s, sent 18 reward messages to agent: reward=1744.0 reward_min=34.0 reward_max=317.0 done=False info={'rewarder.vnc.updates.n': 1, 'rewarder.vnc.updates.pixels': 11840, 'rewarder.vnc.updates.bytes': 35562}\n"
     ]
    },
    {
     "name": "stdout",
     "output_type": "stream",
     "text": [
      "\u001b[36muniverse-B1tgkL-0 |\u001b[0m [2017-01-05 18:26:22,698] [INFO:universe.rewarder.remote] [Rewarder] Over past 1.32s, sent 14 reward messages to agent: reward=442.0 reward_min=1.0 reward_max=160.0 done=False info={'rewarder.vnc.updates.n': 1, 'rewarder.vnc.updates.pixels': 21640, 'rewarder.vnc.updates.bytes': 36882}\n"
     ]
    },
    {
     "name": "stdout",
     "output_type": "stream",
     "text": [
      "\u001b[36muniverse-B1tgkL-0 |\u001b[0m [2017-01-05 18:26:23,579] [INFO:universe.wrappers.logger] Stats for the past 5.01s: vnc_updates_ps=16.0 n=1 reaction_time=None observation_lag=None action_lag=None reward_ps=0.0 reward_total=0.0 vnc_bytes_ps[total]=550967.6 vnc_pixels_ps[total]=243500.2 reward_lag=None rewarder_message_lag=None fps=55.14\n"
     ]
    },
    {
     "name": "stdout",
     "output_type": "stream",
     "text": [
      "\u001b[36muniverse-B1tgkL-0 |\u001b[0m [2017-01-05 18:26:23,624] [INFO:universe.pyprofile] [pyprofile] period=5.01s timers={\"rewarder.sleep.missed\": {\"mean\": \"6.74ms\", \"calls\": 62, \"std\": \"5.35ms\"}, \"score.crop_cache.readthrough.OCRScorerV0\": {\"mean\": \"20.34ms\", \"calls\": 72, \"std\": \"5.47ms\"}, \"rewarder.frame\": {\"mean\": \"18.34ms\", \"calls\": 277, \"std\": \"3.77ms\"}, \"score.crop_cache.get.OCRScorerV0\": {\"mean\": \"141.40us\", \"calls\": 78, \"std\": \"263.08us\"}, \"rewarder.compute_reward\": {\"mean\": \"5.98ms\", \"calls\": 277, \"std\": \"9.85ms\"}, \"reward.parsing.score\": {\"mean\": \"19.36ms\", \"calls\": 78, \"std\": \"7.69ms\"}, \"score.crop_cache.get.MatchImage\": {\"mean\": \"129.99us\", \"calls\": 78, \"std\": \"247.47us\"}, \"reward.parsing.gameover\": {\"mean\": \"401.15us\", \"calls\": 78, \"std\": \"290.51us\"}, \"vnc_env.VNCEnv.vnc_session.step\": {\"mean\": \"155.00us\", \"calls\": 277, \"std\": \"211.33us\"}, \"score.crop_cache.readthrough.MatchImage\": {\"mean\": \"137.97us\", \"calls\": 76, \"std\": \"74.40us\"}, \"rewarder.sleep\": {\"mean\": \"15.24ms\", \"calls\": 215, \"std\": \"3.43ms\"}} counters={\"agent_conn.reward\": {\"mean\": 233.62857142857152, \"calls\": 70, \"std\": 327.27580760622436}, \"reward.vnc.updates.n\": {\"mean\": 0.29241877256317717, \"calls\": 277, \"std\": 0.47895598804785156}, \"score.crop_cache.hit.MatchImage\": {\"mean\": 1.0, \"calls\": 2, \"std\": 0.0}, \"score.crop_cache.hit.OCRScorerV0\": {\"mean\": 1.0, \"calls\": 6, \"std\": 0.0}} gauges={\"reward_parser.score.last_score\": {\"value\": 93896.0, \"mean\": 90319.98717948714, \"calls\": 78, \"std\": 5010.785648779576}} (export_time=383.62us)\n"
     ]
    },
    {
     "name": "stdout",
     "output_type": "stream",
     "text": [
      "\u001b[36muniverse-B1tgkL-0 |\u001b[0m [2017-01-05 18:26:23,782] [INFO:universe.rewarder.remote] [Rewarder] Over past 1.08s, sent 17 reward messages to agent: reward=129.0 reward_min=0 reward_max=28.0 done=False info={'rewarder.vnc.updates.n': 1, 'rewarder.vnc.updates.pixels': 21640, 'rewarder.profile': '<2027 bytes>', 'rewarder.vnc.updates.bytes': 36882}\n"
     ]
    },
    {
     "name": "stdout",
     "output_type": "stream",
     "text": [
      "\u001b[36muniverse-B1tgkL-0 |\u001b[0m [2017-01-05 18:26:24,830] [INFO:universe.rewarder.remote] [Rewarder] Over past 1.05s, sent 17 reward messages to agent: reward=1352.0 reward_min=7.0 reward_max=160.0 done=False info={'rewarder.vnc.updates.n': 1, 'rewarder.vnc.updates.pixels': 21840, 'rewarder.vnc.updates.bytes': 36908}\n"
     ]
    },
    {
     "name": "stdout",
     "output_type": "stream",
     "text": [
      "\u001b[36muniverse-B1tgkL-0 |\u001b[0m [2017-01-05 18:26:25,837] [INFO:universe.rewarder.remote] [Rewarder] Over past 1.01s, sent 19 reward messages to agent: reward=2444.0 reward_min=8.0 reward_max=386.0 done=False info={'rewarder.vnc.updates.n': 1, 'rewarder.vnc.updates.pixels': 21220, 'rewarder.vnc.updates.bytes': 35067}\n"
     ]
    },
    {
     "name": "stdout",
     "output_type": "stream",
     "text": [
      "\u001b[36muniverse-B1tgkL-0 |\u001b[0m [2017-01-05 18:26:26,887] [INFO:universe.rewarder.remote] [Rewarder] Over past 1.05s, sent 11 reward messages to agent: reward=82.0 reward_min=1.0 reward_max=30.0 done=False info={'rewarder.vnc.updates.n': 1, 'rewarder.vnc.updates.pixels': 11840, 'rewarder.vnc.updates.bytes': 35562}\n"
     ]
    },
    {
     "name": "stdout",
     "output_type": "stream",
     "text": [
      "\u001b[36muniverse-B1tgkL-0 |\u001b[0m [2017-01-05 18:26:27,913] [INFO:universe.rewarder.remote] [Rewarder] Over past 1.03s, sent 16 reward messages to agent: reward=116.0 reward_min=1.0 reward_max=20.0 done=False info={'rewarder.vnc.updates.n': 1, 'rewarder.vnc.updates.pixels': 11840, 'rewarder.vnc.updates.bytes': 35562}\n"
     ]
    },
    {
     "ename": "KeyboardInterrupt",
     "evalue": "",
     "traceback": [
      "\u001b[0;31m\u001b[0m",
      "\u001b[0;31mKeyboardInterrupt\u001b[0mTraceback (most recent call last)",
      "\u001b[0;32m<ipython-input-1-0d9166450c83>\u001b[0m in \u001b[0;36m<module>\u001b[0;34m()\u001b[0m\n\u001b[1;32m      8\u001b[0m \u001b[0;32mwhile\u001b[0m \u001b[0mTrue\u001b[0m\u001b[0;34m:\u001b[0m\u001b[0;34m\u001b[0m\u001b[0m\n\u001b[1;32m      9\u001b[0m   \u001b[0maction_n\u001b[0m \u001b[0;34m=\u001b[0m \u001b[0;34m[\u001b[0m\u001b[0;34m[\u001b[0m\u001b[0;34m(\u001b[0m\u001b[0;34m'KeyEvent'\u001b[0m\u001b[0;34m,\u001b[0m \u001b[0;34m'ArrowUp'\u001b[0m\u001b[0;34m,\u001b[0m \u001b[0mTrue\u001b[0m\u001b[0;34m)\u001b[0m\u001b[0;34m]\u001b[0m \u001b[0;32mfor\u001b[0m \u001b[0mob\u001b[0m \u001b[0;32min\u001b[0m \u001b[0mobservation_n\u001b[0m\u001b[0;34m]\u001b[0m  \u001b[0;31m# your agent here\u001b[0m\u001b[0;34m\u001b[0m\u001b[0m\n\u001b[0;32m---> 10\u001b[0;31m   \u001b[0mobservation_n\u001b[0m\u001b[0;34m,\u001b[0m \u001b[0mreward_n\u001b[0m\u001b[0;34m,\u001b[0m \u001b[0mdone_n\u001b[0m\u001b[0;34m,\u001b[0m \u001b[0minfo\u001b[0m \u001b[0;34m=\u001b[0m \u001b[0menv\u001b[0m\u001b[0;34m.\u001b[0m\u001b[0mstep\u001b[0m\u001b[0;34m(\u001b[0m\u001b[0maction_n\u001b[0m\u001b[0;34m)\u001b[0m\u001b[0;34m\u001b[0m\u001b[0m\n\u001b[0m\u001b[1;32m     11\u001b[0m   \u001b[0menv\u001b[0m\u001b[0;34m.\u001b[0m\u001b[0mrender\u001b[0m\u001b[0;34m(\u001b[0m\u001b[0;34m)\u001b[0m\u001b[0;34m\u001b[0m\u001b[0m\n",
      "\u001b[0;32m/usr/local/lib/python2.7/dist-packages/gym/core.pyc\u001b[0m in \u001b[0;36mstep\u001b[0;34m(self, action)\u001b[0m\n\u001b[1;32m    108\u001b[0m             \u001b[0minfo\u001b[0m \u001b[0;34m(\u001b[0m\u001b[0mdict\u001b[0m\u001b[0;34m)\u001b[0m\u001b[0;34m:\u001b[0m \u001b[0mcontains\u001b[0m \u001b[0mauxiliary\u001b[0m \u001b[0mdiagnostic\u001b[0m \u001b[0minformation\u001b[0m \u001b[0;34m(\u001b[0m\u001b[0mhelpful\u001b[0m \u001b[0;32mfor\u001b[0m \u001b[0mdebugging\u001b[0m\u001b[0;34m,\u001b[0m \u001b[0;32mand\u001b[0m \u001b[0msometimes\u001b[0m \u001b[0mlearning\u001b[0m\u001b[0;34m)\u001b[0m\u001b[0;34m\u001b[0m\u001b[0m\n\u001b[1;32m    109\u001b[0m         \"\"\"\n\u001b[0;32m--> 110\u001b[0;31m         \u001b[0mobservation\u001b[0m\u001b[0;34m,\u001b[0m \u001b[0mreward\u001b[0m\u001b[0;34m,\u001b[0m \u001b[0mdone\u001b[0m\u001b[0;34m,\u001b[0m \u001b[0minfo\u001b[0m \u001b[0;34m=\u001b[0m \u001b[0mself\u001b[0m\u001b[0;34m.\u001b[0m\u001b[0m_step\u001b[0m\u001b[0;34m(\u001b[0m\u001b[0maction\u001b[0m\u001b[0;34m)\u001b[0m\u001b[0;34m\u001b[0m\u001b[0m\n\u001b[0m\u001b[1;32m    111\u001b[0m         \u001b[0;32mreturn\u001b[0m \u001b[0mobservation\u001b[0m\u001b[0;34m,\u001b[0m \u001b[0mreward\u001b[0m\u001b[0;34m,\u001b[0m \u001b[0mdone\u001b[0m\u001b[0;34m,\u001b[0m \u001b[0minfo\u001b[0m\u001b[0;34m\u001b[0m\u001b[0m\n\u001b[1;32m    112\u001b[0m \u001b[0;34m\u001b[0m\u001b[0m\n",
      "\u001b[0;32m/home/jana/universe/universe/wrappers/timer.pyc\u001b[0m in \u001b[0;36m_step\u001b[0;34m(self, action_n)\u001b[0m\n\u001b[1;32m     18\u001b[0m         \u001b[0mstart\u001b[0m \u001b[0;34m=\u001b[0m \u001b[0mtime\u001b[0m\u001b[0;34m.\u001b[0m\u001b[0mtime\u001b[0m\u001b[0;34m(\u001b[0m\u001b[0;34m)\u001b[0m\u001b[0;34m\u001b[0m\u001b[0m\n\u001b[1;32m     19\u001b[0m         \u001b[0;32mwith\u001b[0m \u001b[0mpyprofile\u001b[0m\u001b[0;34m.\u001b[0m\u001b[0mpush\u001b[0m\u001b[0;34m(\u001b[0m\u001b[0;34m'vnc_env.Timer.step'\u001b[0m\u001b[0;34m)\u001b[0m\u001b[0;34m:\u001b[0m\u001b[0;34m\u001b[0m\u001b[0m\n\u001b[0;32m---> 20\u001b[0;31m             \u001b[0mobservation_n\u001b[0m\u001b[0;34m,\u001b[0m \u001b[0mreward_n\u001b[0m\u001b[0;34m,\u001b[0m \u001b[0mdone_n\u001b[0m\u001b[0;34m,\u001b[0m \u001b[0minfo\u001b[0m \u001b[0;34m=\u001b[0m \u001b[0mself\u001b[0m\u001b[0;34m.\u001b[0m\u001b[0menv\u001b[0m\u001b[0;34m.\u001b[0m\u001b[0mstep\u001b[0m\u001b[0;34m(\u001b[0m\u001b[0maction_n\u001b[0m\u001b[0;34m)\u001b[0m\u001b[0;34m\u001b[0m\u001b[0m\n\u001b[0m\u001b[1;32m     21\u001b[0m \u001b[0;34m\u001b[0m\u001b[0m\n\u001b[1;32m     22\u001b[0m         \u001b[0;31m# Calculate how much time was spent actually doing work\u001b[0m\u001b[0;34m\u001b[0m\u001b[0;34m\u001b[0m\u001b[0m\n",
      "\u001b[0;32m/usr/local/lib/python2.7/dist-packages/gym/core.pyc\u001b[0m in \u001b[0;36mstep\u001b[0;34m(self, action)\u001b[0m\n\u001b[1;32m    108\u001b[0m             \u001b[0minfo\u001b[0m \u001b[0;34m(\u001b[0m\u001b[0mdict\u001b[0m\u001b[0;34m)\u001b[0m\u001b[0;34m:\u001b[0m \u001b[0mcontains\u001b[0m \u001b[0mauxiliary\u001b[0m \u001b[0mdiagnostic\u001b[0m \u001b[0minformation\u001b[0m \u001b[0;34m(\u001b[0m\u001b[0mhelpful\u001b[0m \u001b[0;32mfor\u001b[0m \u001b[0mdebugging\u001b[0m\u001b[0;34m,\u001b[0m \u001b[0;32mand\u001b[0m \u001b[0msometimes\u001b[0m \u001b[0mlearning\u001b[0m\u001b[0;34m)\u001b[0m\u001b[0;34m\u001b[0m\u001b[0m\n\u001b[1;32m    109\u001b[0m         \"\"\"\n\u001b[0;32m--> 110\u001b[0;31m         \u001b[0mobservation\u001b[0m\u001b[0;34m,\u001b[0m \u001b[0mreward\u001b[0m\u001b[0;34m,\u001b[0m \u001b[0mdone\u001b[0m\u001b[0;34m,\u001b[0m \u001b[0minfo\u001b[0m \u001b[0;34m=\u001b[0m \u001b[0mself\u001b[0m\u001b[0;34m.\u001b[0m\u001b[0m_step\u001b[0m\u001b[0;34m(\u001b[0m\u001b[0maction\u001b[0m\u001b[0;34m)\u001b[0m\u001b[0;34m\u001b[0m\u001b[0m\n\u001b[0m\u001b[1;32m    111\u001b[0m         \u001b[0;32mreturn\u001b[0m \u001b[0mobservation\u001b[0m\u001b[0;34m,\u001b[0m \u001b[0mreward\u001b[0m\u001b[0;34m,\u001b[0m \u001b[0mdone\u001b[0m\u001b[0;34m,\u001b[0m \u001b[0minfo\u001b[0m\u001b[0;34m\u001b[0m\u001b[0m\n\u001b[1;32m    112\u001b[0m \u001b[0;34m\u001b[0m\u001b[0m\n",
      "\u001b[0;32m/home/jana/universe/universe/wrappers/render.pyc\u001b[0m in \u001b[0;36m_step\u001b[0;34m(self, action_n)\u001b[0m\n\u001b[1;32m     28\u001b[0m \u001b[0;34m\u001b[0m\u001b[0m\n\u001b[1;32m     29\u001b[0m     \u001b[0;32mdef\u001b[0m \u001b[0m_step\u001b[0m\u001b[0;34m(\u001b[0m\u001b[0mself\u001b[0m\u001b[0;34m,\u001b[0m \u001b[0maction_n\u001b[0m\u001b[0;34m)\u001b[0m\u001b[0;34m:\u001b[0m\u001b[0;34m\u001b[0m\u001b[0m\n\u001b[0;32m---> 30\u001b[0;31m         \u001b[0mobservation_n\u001b[0m\u001b[0;34m,\u001b[0m \u001b[0mreward_n\u001b[0m\u001b[0;34m,\u001b[0m \u001b[0mdone_n\u001b[0m\u001b[0;34m,\u001b[0m \u001b[0minfo_n\u001b[0m \u001b[0;34m=\u001b[0m \u001b[0mself\u001b[0m\u001b[0;34m.\u001b[0m\u001b[0menv\u001b[0m\u001b[0;34m.\u001b[0m\u001b[0mstep\u001b[0m\u001b[0;34m(\u001b[0m\u001b[0maction_n\u001b[0m\u001b[0;34m)\u001b[0m\u001b[0;34m\u001b[0m\u001b[0m\n\u001b[0m\u001b[1;32m     31\u001b[0m         \u001b[0mself\u001b[0m\u001b[0;34m.\u001b[0m\u001b[0m_observation\u001b[0m \u001b[0;34m=\u001b[0m \u001b[0mobservation_n\u001b[0m\u001b[0;34m[\u001b[0m\u001b[0;36m0\u001b[0m\u001b[0;34m]\u001b[0m\u001b[0;34m\u001b[0m\u001b[0m\n\u001b[1;32m     32\u001b[0m         \u001b[0;32mreturn\u001b[0m \u001b[0mobservation_n\u001b[0m\u001b[0;34m,\u001b[0m \u001b[0mreward_n\u001b[0m\u001b[0;34m,\u001b[0m \u001b[0mdone_n\u001b[0m\u001b[0;34m,\u001b[0m \u001b[0minfo_n\u001b[0m\u001b[0;34m\u001b[0m\u001b[0m\n",
      "\u001b[0;32m/usr/local/lib/python2.7/dist-packages/gym/core.pyc\u001b[0m in \u001b[0;36mstep\u001b[0;34m(self, action)\u001b[0m\n\u001b[1;32m    108\u001b[0m             \u001b[0minfo\u001b[0m \u001b[0;34m(\u001b[0m\u001b[0mdict\u001b[0m\u001b[0;34m)\u001b[0m\u001b[0;34m:\u001b[0m \u001b[0mcontains\u001b[0m \u001b[0mauxiliary\u001b[0m \u001b[0mdiagnostic\u001b[0m \u001b[0minformation\u001b[0m \u001b[0;34m(\u001b[0m\u001b[0mhelpful\u001b[0m \u001b[0;32mfor\u001b[0m \u001b[0mdebugging\u001b[0m\u001b[0;34m,\u001b[0m \u001b[0;32mand\u001b[0m \u001b[0msometimes\u001b[0m \u001b[0mlearning\u001b[0m\u001b[0;34m)\u001b[0m\u001b[0;34m\u001b[0m\u001b[0m\n\u001b[1;32m    109\u001b[0m         \"\"\"\n\u001b[0;32m--> 110\u001b[0;31m         \u001b[0mobservation\u001b[0m\u001b[0;34m,\u001b[0m \u001b[0mreward\u001b[0m\u001b[0;34m,\u001b[0m \u001b[0mdone\u001b[0m\u001b[0;34m,\u001b[0m \u001b[0minfo\u001b[0m \u001b[0;34m=\u001b[0m \u001b[0mself\u001b[0m\u001b[0;34m.\u001b[0m\u001b[0m_step\u001b[0m\u001b[0;34m(\u001b[0m\u001b[0maction\u001b[0m\u001b[0;34m)\u001b[0m\u001b[0;34m\u001b[0m\u001b[0m\n\u001b[0m\u001b[1;32m    111\u001b[0m         \u001b[0;32mreturn\u001b[0m \u001b[0mobservation\u001b[0m\u001b[0;34m,\u001b[0m \u001b[0mreward\u001b[0m\u001b[0;34m,\u001b[0m \u001b[0mdone\u001b[0m\u001b[0;34m,\u001b[0m \u001b[0minfo\u001b[0m\u001b[0;34m\u001b[0m\u001b[0m\n\u001b[1;32m    112\u001b[0m \u001b[0;34m\u001b[0m\u001b[0m\n",
      "\u001b[0;32m/home/jana/universe/universe/wrappers/throttle.pyc\u001b[0m in \u001b[0;36m_step\u001b[0;34m(self, action_n)\u001b[0m\n\u001b[1;32m    101\u001b[0m                 \u001b[0mpyprofile\u001b[0m\u001b[0;34m.\u001b[0m\u001b[0mtiming\u001b[0m\u001b[0;34m(\u001b[0m\u001b[0;34m'vnc_env.Throttle.sleep'\u001b[0m\u001b[0;34m,\u001b[0m \u001b[0mdelta\u001b[0m\u001b[0;34m)\u001b[0m\u001b[0;34m\u001b[0m\u001b[0m\n\u001b[1;32m    102\u001b[0m                 \u001b[0maccum_info\u001b[0m\u001b[0;34m[\u001b[0m\u001b[0;34m'stats.throttle.sleep'\u001b[0m\u001b[0;34m]\u001b[0m \u001b[0;34m+=\u001b[0m \u001b[0mdelta\u001b[0m\u001b[0;34m\u001b[0m\u001b[0m\n\u001b[0;32m--> 103\u001b[0;31m                 \u001b[0mtime\u001b[0m\u001b[0;34m.\u001b[0m\u001b[0msleep\u001b[0m\u001b[0;34m(\u001b[0m\u001b[0mdelta\u001b[0m\u001b[0;34m)\u001b[0m\u001b[0;34m\u001b[0m\u001b[0m\n\u001b[0m\u001b[1;32m    104\u001b[0m \u001b[0;34m\u001b[0m\u001b[0m\n\u001b[1;32m    105\u001b[0m                 \u001b[0;31m# We want to merge in the latest reward/done/info so that our\u001b[0m\u001b[0;34m\u001b[0m\u001b[0;34m\u001b[0m\u001b[0m\n",
      "\u001b[0;31mKeyboardInterrupt\u001b[0m: "
     ],
     "output_type": "error"
    }
   ],
   "source": [
    "import gym\n",
    "import universe  # register the universe environments\n",
    "\n",
    "env = gym.make('flashgames.DuskDrive-v0')\n",
    "env.configure(remotes=1)  # automatically creates a local docker container\n",
    "observation_n = env.reset()\n",
    "\n",
    "while True:\n",
    "  action_n = [[('KeyEvent', 'ArrowUp', True)] for ob in observation_n]  # your agent here\n",
    "  observation_n, reward_n, done_n, info = env.step(action_n)\n",
    "  env.render()"
   ]
  },
  {
   "cell_type": "code",
   "execution_count": null,
   "metadata": {},
   "outputs": [],
   "source": [
    ""
   ]
  }
 ],
 "metadata": {
  "kernelspec": {
   "display_name": "Python 2",
   "language": "python",
   "name": "python2"
  },
  "language_info": {
   "codemirror_mode": {
    "name": "ipython",
    "version": 2.0
   },
   "file_extension": ".py",
   "mimetype": "text/x-python",
   "name": "python",
   "nbconvert_exporter": "python",
   "pygments_lexer": "ipython2",
   "version": "2.7.6"
  }
 },
 "nbformat": 4,
 "nbformat_minor": 0
}